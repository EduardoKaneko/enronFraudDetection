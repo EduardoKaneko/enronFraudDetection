{
 "cells": [
  {
   "cell_type": "markdown",
   "metadata": {},
   "source": [
    "## <font color=#005CE8>Enron Fraud Detection</font>\n",
    "Author: Eduardo Kaneko <br>\n",
    "Date: 16.05.2019 <br>\n",
    "Nanodegree | Udacity "
   ]
  },
  {
   "cell_type": "markdown",
   "metadata": {},
   "source": [
    "## <font color=#005ce8> Project Overview </font>\n",
    "\n",
    "In 2000, Enron was one of the largest companies in the United States. Already in 2002, it collapsed and broke due to a fraud that involved much of the corporation. Resulting in a federal investigation, many data that is normally confidential, have become public, including tens of thousands of emails and financial details to executives of the highest levels of the company. In this project, I have played the detective, and put my skills into building a predictive model that determined whether or not an employee is an employee of interest (POI). An employee of concern is an employee who participated in the Enron scandal. To assist me in this detective work, udacity has combined the financial and e-mail data of the employees investigated in this fraud case, which means that they have been indicted, have entered into agreements with the government, or have testified in exchange for immunity in the case.\n",
    "\n",
    "*Obs: The report is inside this notebook, at the end, as you can see in the guide*\n"
   ]
  },
  {
   "cell_type": "markdown",
   "metadata": {},
   "source": [
    "## <font color=#005ce8> Guide: </font>\n",
    "\n",
    "* [1. Importing Libraries](#import)\n",
    "* [2. Gather The Data](#load)\n",
    "* [3. Exploration](#explore)\n",
    "* [4. Outlier](#outlier)\n",
    "* [5. Features](#feat)\n",
    "* [6. Algorithm Selection](#algoritms)\n",
    "* [7. Evaluation | Report](#evaluation)"
   ]
  },
  {
   "cell_type": "markdown",
   "metadata": {},
   "source": [
    "## <a id=\"import\" class=\"anchor\"><font color=#005ce8>1. Importing Libraries</font></a>"
   ]
  },
  {
   "cell_type": "code",
   "execution_count": 80,
   "metadata": {},
   "outputs": [],
   "source": [
    "from sklearn.metrics import accuracy_score, precision_score, recall_score, f1_score\n",
    "from feature_format import featureFormat, targetFeatureSplit\n",
    "from tester import dump_classifier_and_data, test_classifier\n",
    "from sklearn.preprocessing import MinMaxScaler\n",
    "import matplotlib.pyplot as plt\n",
    "import missingno as msno\n",
    "from time import time\n",
    "import seaborn as sns\n",
    "import pandas as pd\n",
    "import numpy as np\n",
    "%matplotlib inline\n",
    "import pickle\n",
    "import sys\n",
    "\n",
    "sys.path.append(\"/Users/eduardo/documents/code/machine_learning/ud120-projects-python3/tools/\")"
   ]
  },
  {
   "cell_type": "code",
   "execution_count": 81,
   "metadata": {},
   "outputs": [],
   "source": [
    "scaler = MinMaxScaler()"
   ]
  },
  {
   "cell_type": "markdown",
   "metadata": {},
   "source": [
    "Machine Learning Libraries"
   ]
  },
  {
   "cell_type": "code",
   "execution_count": 82,
   "metadata": {},
   "outputs": [],
   "source": [
    "from feature_format import featureFormat, targetFeatureSplit\n",
    "from sklearn.model_selection import StratifiedShuffleSplit\n",
    "from sklearn.model_selection import cross_validate\n",
    "from sklearn.metrics import accuracy_score\n",
    "from sklearn.metrics import precision_score\n",
    "from sklearn.metrics import recall_score\n",
    "import scikitplot as skplt"
   ]
  },
  {
   "cell_type": "markdown",
   "metadata": {},
   "source": [
    "Classificators"
   ]
  },
  {
   "cell_type": "code",
   "execution_count": 83,
   "metadata": {},
   "outputs": [],
   "source": [
    "from sklearn.neighbors import KNeighborsClassifier\n",
    "from sklearn.naive_bayes import GaussianNB\n",
    "from tester import dump_classifier_and_data\n",
    "from sklearn.cluster import KMeans\n",
    "from sklearn.svm import SVC\n",
    "from sklearn import tree"
   ]
  },
  {
   "cell_type": "code",
   "execution_count": 84,
   "metadata": {},
   "outputs": [],
   "source": [
    "pd.set_option('display.max_columns', 300)\n",
    "pd.set_option('display.max_rows', 300)\n",
    "pd.set_option('display.max_colwidth', -1)"
   ]
  },
  {
   "cell_type": "markdown",
   "metadata": {},
   "source": [
    "## <a id=\"load\" class=\"anchor\"><font color=#005ce8>2. Gather the data</font></a>"
   ]
  },
  {
   "cell_type": "code",
   "execution_count": 85,
   "metadata": {},
   "outputs": [],
   "source": [
    "with open(\"final_project_dataset.pkl\", \"rb\") as f:\n",
    "    data_dict = pickle.load(f)\n",
    "    f.close()"
   ]
  },
  {
   "cell_type": "code",
   "execution_count": 86,
   "metadata": {},
   "outputs": [],
   "source": [
    "# Converting the given pickled Enron data to a pandas dataframe\n",
    "df = pd.DataFrame.from_records(list(data_dict.values()))\n",
    "\n",
    "\n",
    "# Set the index of df to be the employees series:\n",
    "employees = pd.Series(list(data_dict.keys()))\n",
    "df.set_index(employees, inplace=True)"
   ]
  },
  {
   "cell_type": "markdown",
   "metadata": {},
   "source": [
    "### Loading the files\n",
    "The pickled Enron data is loaded as a pandas dataframe for easy anlysis of the dataset. And the key i.e., the Enron employees name is used as the index of the pandas dataframe."
   ]
  },
  {
   "cell_type": "code",
   "execution_count": 87,
   "metadata": {},
   "outputs": [
    {
     "data": {
      "text/html": [
       "<div>\n",
       "<style scoped>\n",
       "    .dataframe tbody tr th:only-of-type {\n",
       "        vertical-align: middle;\n",
       "    }\n",
       "\n",
       "    .dataframe tbody tr th {\n",
       "        vertical-align: top;\n",
       "    }\n",
       "\n",
       "    .dataframe thead th {\n",
       "        text-align: right;\n",
       "    }\n",
       "</style>\n",
       "<table border=\"1\" class=\"dataframe\">\n",
       "  <thead>\n",
       "    <tr style=\"text-align: right;\">\n",
       "      <th></th>\n",
       "      <th>bonus</th>\n",
       "      <th>deferral_payments</th>\n",
       "      <th>deferred_income</th>\n",
       "      <th>director_fees</th>\n",
       "      <th>email_address</th>\n",
       "      <th>exercised_stock_options</th>\n",
       "      <th>expenses</th>\n",
       "      <th>from_messages</th>\n",
       "      <th>from_poi_to_this_person</th>\n",
       "      <th>from_this_person_to_poi</th>\n",
       "      <th>loan_advances</th>\n",
       "      <th>long_term_incentive</th>\n",
       "      <th>other</th>\n",
       "      <th>poi</th>\n",
       "      <th>restricted_stock</th>\n",
       "      <th>restricted_stock_deferred</th>\n",
       "      <th>salary</th>\n",
       "      <th>shared_receipt_with_poi</th>\n",
       "      <th>to_messages</th>\n",
       "      <th>total_payments</th>\n",
       "      <th>total_stock_value</th>\n",
       "    </tr>\n",
       "  </thead>\n",
       "  <tbody>\n",
       "    <tr>\n",
       "      <th>GRAMM WENDY L</th>\n",
       "      <td>NaN</td>\n",
       "      <td>NaN</td>\n",
       "      <td>NaN</td>\n",
       "      <td>119292</td>\n",
       "      <td>NaN</td>\n",
       "      <td>NaN</td>\n",
       "      <td>NaN</td>\n",
       "      <td>NaN</td>\n",
       "      <td>NaN</td>\n",
       "      <td>NaN</td>\n",
       "      <td>NaN</td>\n",
       "      <td>NaN</td>\n",
       "      <td>NaN</td>\n",
       "      <td>False</td>\n",
       "      <td>NaN</td>\n",
       "      <td>NaN</td>\n",
       "      <td>NaN</td>\n",
       "      <td>NaN</td>\n",
       "      <td>NaN</td>\n",
       "      <td>119292</td>\n",
       "      <td>NaN</td>\n",
       "    </tr>\n",
       "    <tr>\n",
       "      <th>CAUSEY RICHARD A</th>\n",
       "      <td>1000000</td>\n",
       "      <td>NaN</td>\n",
       "      <td>-235000</td>\n",
       "      <td>NaN</td>\n",
       "      <td>richard.causey@enron.com</td>\n",
       "      <td>NaN</td>\n",
       "      <td>30674</td>\n",
       "      <td>49</td>\n",
       "      <td>58</td>\n",
       "      <td>12</td>\n",
       "      <td>NaN</td>\n",
       "      <td>350000</td>\n",
       "      <td>307895</td>\n",
       "      <td>True</td>\n",
       "      <td>2502063</td>\n",
       "      <td>NaN</td>\n",
       "      <td>415189</td>\n",
       "      <td>1585</td>\n",
       "      <td>1892</td>\n",
       "      <td>1868758</td>\n",
       "      <td>2502063</td>\n",
       "    </tr>\n",
       "    <tr>\n",
       "      <th>TAYLOR MITCHELL S</th>\n",
       "      <td>600000</td>\n",
       "      <td>227449</td>\n",
       "      <td>NaN</td>\n",
       "      <td>NaN</td>\n",
       "      <td>mitchell.taylor@enron.com</td>\n",
       "      <td>3181250</td>\n",
       "      <td>NaN</td>\n",
       "      <td>29</td>\n",
       "      <td>0</td>\n",
       "      <td>0</td>\n",
       "      <td>NaN</td>\n",
       "      <td>NaN</td>\n",
       "      <td>NaN</td>\n",
       "      <td>False</td>\n",
       "      <td>563798</td>\n",
       "      <td>NaN</td>\n",
       "      <td>265214</td>\n",
       "      <td>300</td>\n",
       "      <td>533</td>\n",
       "      <td>1092663</td>\n",
       "      <td>3745048</td>\n",
       "    </tr>\n",
       "    <tr>\n",
       "      <th>DONAHUE JR JEFFREY M</th>\n",
       "      <td>800000</td>\n",
       "      <td>NaN</td>\n",
       "      <td>-300000</td>\n",
       "      <td>NaN</td>\n",
       "      <td>jeff.donahue@enron.com</td>\n",
       "      <td>765920</td>\n",
       "      <td>96268</td>\n",
       "      <td>22</td>\n",
       "      <td>188</td>\n",
       "      <td>11</td>\n",
       "      <td>NaN</td>\n",
       "      <td>NaN</td>\n",
       "      <td>891</td>\n",
       "      <td>False</td>\n",
       "      <td>315068</td>\n",
       "      <td>NaN</td>\n",
       "      <td>278601</td>\n",
       "      <td>772</td>\n",
       "      <td>865</td>\n",
       "      <td>875760</td>\n",
       "      <td>1080988</td>\n",
       "    </tr>\n",
       "    <tr>\n",
       "      <th>GLISAN JR BEN F</th>\n",
       "      <td>600000</td>\n",
       "      <td>NaN</td>\n",
       "      <td>NaN</td>\n",
       "      <td>NaN</td>\n",
       "      <td>ben.glisan@enron.com</td>\n",
       "      <td>384728</td>\n",
       "      <td>125978</td>\n",
       "      <td>16</td>\n",
       "      <td>52</td>\n",
       "      <td>6</td>\n",
       "      <td>NaN</td>\n",
       "      <td>71023</td>\n",
       "      <td>200308</td>\n",
       "      <td>True</td>\n",
       "      <td>393818</td>\n",
       "      <td>NaN</td>\n",
       "      <td>274975</td>\n",
       "      <td>874</td>\n",
       "      <td>873</td>\n",
       "      <td>1272284</td>\n",
       "      <td>778546</td>\n",
       "    </tr>\n",
       "  </tbody>\n",
       "</table>\n",
       "</div>"
      ],
      "text/plain": [
       "                        bonus deferral_payments deferred_income director_fees  \\\n",
       "GRAMM WENDY L         NaN      NaN               NaN             119292         \n",
       "CAUSEY RICHARD A      1000000  NaN               -235000         NaN            \n",
       "TAYLOR MITCHELL S     600000   227449            NaN             NaN            \n",
       "DONAHUE JR JEFFREY M  800000   NaN               -300000         NaN            \n",
       "GLISAN JR BEN F       600000   NaN               NaN             NaN            \n",
       "\n",
       "                                  email_address exercised_stock_options  \\\n",
       "GRAMM WENDY L         NaN                        NaN                      \n",
       "CAUSEY RICHARD A      richard.causey@enron.com   NaN                      \n",
       "TAYLOR MITCHELL S     mitchell.taylor@enron.com  3181250                  \n",
       "DONAHUE JR JEFFREY M  jeff.donahue@enron.com     765920                   \n",
       "GLISAN JR BEN F       ben.glisan@enron.com       384728                   \n",
       "\n",
       "                     expenses from_messages from_poi_to_this_person  \\\n",
       "GRAMM WENDY L         NaN      NaN           NaN                      \n",
       "CAUSEY RICHARD A      30674    49            58                       \n",
       "TAYLOR MITCHELL S     NaN      29            0                        \n",
       "DONAHUE JR JEFFREY M  96268    22            188                      \n",
       "GLISAN JR BEN F       125978   16            52                       \n",
       "\n",
       "                     from_this_person_to_poi loan_advances  \\\n",
       "GRAMM WENDY L         NaN                     NaN            \n",
       "CAUSEY RICHARD A      12                      NaN            \n",
       "TAYLOR MITCHELL S     0                       NaN            \n",
       "DONAHUE JR JEFFREY M  11                      NaN            \n",
       "GLISAN JR BEN F       6                       NaN            \n",
       "\n",
       "                     long_term_incentive   other    poi restricted_stock  \\\n",
       "GRAMM WENDY L         NaN                 NaN     False  NaN               \n",
       "CAUSEY RICHARD A      350000              307895  True   2502063           \n",
       "TAYLOR MITCHELL S     NaN                 NaN     False  563798            \n",
       "DONAHUE JR JEFFREY M  NaN                 891     False  315068            \n",
       "GLISAN JR BEN F       71023               200308  True   393818            \n",
       "\n",
       "                     restricted_stock_deferred  salary  \\\n",
       "GRAMM WENDY L         NaN                       NaN      \n",
       "CAUSEY RICHARD A      NaN                       415189   \n",
       "TAYLOR MITCHELL S     NaN                       265214   \n",
       "DONAHUE JR JEFFREY M  NaN                       278601   \n",
       "GLISAN JR BEN F       NaN                       274975   \n",
       "\n",
       "                     shared_receipt_with_poi to_messages total_payments  \\\n",
       "GRAMM WENDY L         NaN                     NaN         119292          \n",
       "CAUSEY RICHARD A      1585                    1892        1868758         \n",
       "TAYLOR MITCHELL S     300                     533         1092663         \n",
       "DONAHUE JR JEFFREY M  772                     865         875760          \n",
       "GLISAN JR BEN F       874                     873         1272284         \n",
       "\n",
       "                     total_stock_value  \n",
       "GRAMM WENDY L         NaN               \n",
       "CAUSEY RICHARD A      2502063           \n",
       "TAYLOR MITCHELL S     3745048           \n",
       "DONAHUE JR JEFFREY M  1080988           \n",
       "GLISAN JR BEN F       778546            "
      ]
     },
     "execution_count": 87,
     "metadata": {},
     "output_type": "execute_result"
    }
   ],
   "source": [
    "df.tail()"
   ]
  },
  {
   "cell_type": "markdown",
   "metadata": {},
   "source": [
    "## <a id=\"explore\" class=\"anchor\"><font color=#005ce8>3. Exploration</font></a>"
   ]
  },
  {
   "cell_type": "code",
   "execution_count": 88,
   "metadata": {},
   "outputs": [],
   "source": [
    "ns = df.applymap(lambda x: x == 'NaN').sum(axis = 0)\n",
    "ns_dict = ns.to_dict()"
   ]
  },
  {
   "cell_type": "code",
   "execution_count": 89,
   "metadata": {},
   "outputs": [
    {
     "data": {
      "image/png": "[encoded data removed]",
      "text/plain": [
       "<Figure size 2160x1080 with 1 Axes>"
      ]
     },
     "metadata": {
      "needs_background": "light"
     },
     "output_type": "display_data"
    }
   ],
   "source": [
    "plt.figure(figsize=(30, 15))\n",
    "plt.xticks(rotation=90, fontsize=15)\n",
    "plt.bar(*zip(*ns_dict.items()))\n",
    "plt.xlabel('Columns', fontsize=15)\n",
    "plt.ylabel('Number of NaNs', fontsize=15)\n",
    "plt.title(\"Number of NaNs Per Column\", fontsize=25)\n",
    "plt.show()"
   ]
  },
  {
   "cell_type": "code",
   "execution_count": 90,
   "metadata": {},
   "outputs": [],
   "source": [
    "def exploreDataset(df, col):\n",
    "    print(\"The dataset's size: {}\".format(df.shape)) \n",
    "    print(\"The dataset's lenght: {}\".format(len(df)))\n",
    "    var = col.value_counts().tolist()\n",
    "    print(\"POIs: {}\".format(var[1]))\n",
    "    print(\"Non-POIs: {}\".format(var[0]))"
   ]
  },
  {
   "cell_type": "code",
   "execution_count": 91,
   "metadata": {},
   "outputs": [
    {
     "name": "stdout",
     "output_type": "stream",
     "text": [
      "The dataset's size: (146, 21)\n",
      "The dataset's lenght: 146\n",
      "POIs: 18\n",
      "Non-POIs: 128\n"
     ]
    }
   ],
   "source": [
    "exploreDataset(df, df['poi'])"
   ]
  },
  {
   "cell_type": "code",
   "execution_count": 92,
   "metadata": {},
   "outputs": [
    {
     "name": "stdout",
     "output_type": "stream",
     "text": [
      "<class 'pandas.core.frame.DataFrame'>\n",
      "Index: 146 entries, METTS MARK to GLISAN JR BEN F\n",
      "Data columns (total 21 columns):\n",
      "bonus                        146 non-null object\n",
      "deferral_payments            146 non-null object\n",
      "deferred_income              146 non-null object\n",
      "director_fees                146 non-null object\n",
      "email_address                146 non-null object\n",
      "exercised_stock_options      146 non-null object\n",
      "expenses                     146 non-null object\n",
      "from_messages                146 non-null object\n",
      "from_poi_to_this_person      146 non-null object\n",
      "from_this_person_to_poi      146 non-null object\n",
      "loan_advances                146 non-null object\n",
      "long_term_incentive          146 non-null object\n",
      "other                        146 non-null object\n",
      "poi                          146 non-null bool\n",
      "restricted_stock             146 non-null object\n",
      "restricted_stock_deferred    146 non-null object\n",
      "salary                       146 non-null object\n",
      "shared_receipt_with_poi      146 non-null object\n",
      "to_messages                  146 non-null object\n",
      "total_payments               146 non-null object\n",
      "total_stock_value            146 non-null object\n",
      "dtypes: bool(1), object(20)\n",
      "memory usage: 24.1+ KB\n"
     ]
    }
   ],
   "source": [
    "df.info()"
   ]
  },
  {
   "cell_type": "markdown",
   "metadata": {},
   "source": [
    "Dataset does not have nulls"
   ]
  },
  {
   "cell_type": "code",
   "execution_count": 93,
   "metadata": {},
   "outputs": [
    {
     "data": {
      "text/html": [
       "<div>\n",
       "<style scoped>\n",
       "    .dataframe tbody tr th:only-of-type {\n",
       "        vertical-align: middle;\n",
       "    }\n",
       "\n",
       "    .dataframe tbody tr th {\n",
       "        vertical-align: top;\n",
       "    }\n",
       "\n",
       "    .dataframe thead th {\n",
       "        text-align: right;\n",
       "    }\n",
       "</style>\n",
       "<table border=\"1\" class=\"dataframe\">\n",
       "  <thead>\n",
       "    <tr style=\"text-align: right;\">\n",
       "      <th></th>\n",
       "      <th>bonus</th>\n",
       "      <th>deferral_payments</th>\n",
       "      <th>deferred_income</th>\n",
       "      <th>director_fees</th>\n",
       "      <th>email_address</th>\n",
       "      <th>exercised_stock_options</th>\n",
       "      <th>expenses</th>\n",
       "      <th>from_messages</th>\n",
       "      <th>from_poi_to_this_person</th>\n",
       "      <th>from_this_person_to_poi</th>\n",
       "      <th>loan_advances</th>\n",
       "      <th>long_term_incentive</th>\n",
       "      <th>other</th>\n",
       "      <th>poi</th>\n",
       "      <th>restricted_stock</th>\n",
       "      <th>restricted_stock_deferred</th>\n",
       "      <th>salary</th>\n",
       "      <th>shared_receipt_with_poi</th>\n",
       "      <th>to_messages</th>\n",
       "      <th>total_payments</th>\n",
       "      <th>total_stock_value</th>\n",
       "    </tr>\n",
       "  </thead>\n",
       "  <tbody>\n",
       "    <tr>\n",
       "      <th>count</th>\n",
       "      <td>146</td>\n",
       "      <td>146</td>\n",
       "      <td>146</td>\n",
       "      <td>146</td>\n",
       "      <td>146</td>\n",
       "      <td>146</td>\n",
       "      <td>146</td>\n",
       "      <td>146</td>\n",
       "      <td>146</td>\n",
       "      <td>146</td>\n",
       "      <td>146</td>\n",
       "      <td>146</td>\n",
       "      <td>146</td>\n",
       "      <td>146</td>\n",
       "      <td>146</td>\n",
       "      <td>146</td>\n",
       "      <td>146</td>\n",
       "      <td>146</td>\n",
       "      <td>146</td>\n",
       "      <td>146</td>\n",
       "      <td>146</td>\n",
       "    </tr>\n",
       "    <tr>\n",
       "      <th>unique</th>\n",
       "      <td>42</td>\n",
       "      <td>40</td>\n",
       "      <td>45</td>\n",
       "      <td>18</td>\n",
       "      <td>112</td>\n",
       "      <td>102</td>\n",
       "      <td>95</td>\n",
       "      <td>65</td>\n",
       "      <td>58</td>\n",
       "      <td>42</td>\n",
       "      <td>5</td>\n",
       "      <td>53</td>\n",
       "      <td>93</td>\n",
       "      <td>2</td>\n",
       "      <td>98</td>\n",
       "      <td>19</td>\n",
       "      <td>95</td>\n",
       "      <td>84</td>\n",
       "      <td>87</td>\n",
       "      <td>126</td>\n",
       "      <td>125</td>\n",
       "    </tr>\n",
       "    <tr>\n",
       "      <th>top</th>\n",
       "      <td>NaN</td>\n",
       "      <td>NaN</td>\n",
       "      <td>NaN</td>\n",
       "      <td>NaN</td>\n",
       "      <td>NaN</td>\n",
       "      <td>NaN</td>\n",
       "      <td>NaN</td>\n",
       "      <td>NaN</td>\n",
       "      <td>NaN</td>\n",
       "      <td>NaN</td>\n",
       "      <td>NaN</td>\n",
       "      <td>NaN</td>\n",
       "      <td>NaN</td>\n",
       "      <td>False</td>\n",
       "      <td>NaN</td>\n",
       "      <td>NaN</td>\n",
       "      <td>NaN</td>\n",
       "      <td>NaN</td>\n",
       "      <td>NaN</td>\n",
       "      <td>NaN</td>\n",
       "      <td>NaN</td>\n",
       "    </tr>\n",
       "    <tr>\n",
       "      <th>freq</th>\n",
       "      <td>64</td>\n",
       "      <td>107</td>\n",
       "      <td>97</td>\n",
       "      <td>129</td>\n",
       "      <td>35</td>\n",
       "      <td>44</td>\n",
       "      <td>51</td>\n",
       "      <td>60</td>\n",
       "      <td>60</td>\n",
       "      <td>60</td>\n",
       "      <td>142</td>\n",
       "      <td>80</td>\n",
       "      <td>53</td>\n",
       "      <td>128</td>\n",
       "      <td>36</td>\n",
       "      <td>128</td>\n",
       "      <td>51</td>\n",
       "      <td>60</td>\n",
       "      <td>60</td>\n",
       "      <td>21</td>\n",
       "      <td>20</td>\n",
       "    </tr>\n",
       "  </tbody>\n",
       "</table>\n",
       "</div>"
      ],
      "text/plain": [
       "       bonus deferral_payments deferred_income director_fees email_address  \\\n",
       "count   146   146               146             146           146            \n",
       "unique  42    40                45              18            112            \n",
       "top     NaN   NaN               NaN             NaN           NaN            \n",
       "freq    64    107               97              129           35             \n",
       "\n",
       "       exercised_stock_options expenses from_messages from_poi_to_this_person  \\\n",
       "count   146                     146      146           146                      \n",
       "unique  102                     95       65            58                       \n",
       "top     NaN                     NaN      NaN           NaN                      \n",
       "freq    44                      51       60            60                       \n",
       "\n",
       "       from_this_person_to_poi loan_advances long_term_incentive other    poi  \\\n",
       "count   146                     146           146                 146   146     \n",
       "unique  42                      5             53                  93    2       \n",
       "top     NaN                     NaN           NaN                 NaN   False   \n",
       "freq    60                      142           80                  53    128     \n",
       "\n",
       "       restricted_stock restricted_stock_deferred salary  \\\n",
       "count   146              146                       146     \n",
       "unique  98               19                        95      \n",
       "top     NaN              NaN                       NaN     \n",
       "freq    36               128                       51      \n",
       "\n",
       "       shared_receipt_with_poi to_messages total_payments total_stock_value  \n",
       "count   146                     146         146            146               \n",
       "unique  84                      87          126            125               \n",
       "top     NaN                     NaN         NaN            NaN               \n",
       "freq    60                      60          21             20                "
      ]
     },
     "execution_count": 93,
     "metadata": {},
     "output_type": "execute_result"
    }
   ],
   "source": [
    "df.describe()"
   ]
  },
  {
   "cell_type": "markdown",
   "metadata": {},
   "source": [
    "Converting the datatypes in the given pandas dataframe into floating points for analysis and replace NaN with zeros."
   ]
  },
  {
   "cell_type": "code",
   "execution_count": 94,
   "metadata": {},
   "outputs": [],
   "source": [
    "df_clean = df.copy()"
   ]
  },
  {
   "cell_type": "code",
   "execution_count": 95,
   "metadata": {},
   "outputs": [
    {
     "data": {
      "text/html": [
       "<div>\n",
       "<style scoped>\n",
       "    .dataframe tbody tr th:only-of-type {\n",
       "        vertical-align: middle;\n",
       "    }\n",
       "\n",
       "    .dataframe tbody tr th {\n",
       "        vertical-align: top;\n",
       "    }\n",
       "\n",
       "    .dataframe thead th {\n",
       "        text-align: right;\n",
       "    }\n",
       "</style>\n",
       "<table border=\"1\" class=\"dataframe\">\n",
       "  <thead>\n",
       "    <tr style=\"text-align: right;\">\n",
       "      <th></th>\n",
       "      <th>bonus</th>\n",
       "      <th>deferral_payments</th>\n",
       "      <th>deferred_income</th>\n",
       "      <th>director_fees</th>\n",
       "      <th>email_address</th>\n",
       "      <th>exercised_stock_options</th>\n",
       "      <th>expenses</th>\n",
       "      <th>from_messages</th>\n",
       "      <th>from_poi_to_this_person</th>\n",
       "      <th>from_this_person_to_poi</th>\n",
       "      <th>loan_advances</th>\n",
       "      <th>long_term_incentive</th>\n",
       "      <th>other</th>\n",
       "      <th>poi</th>\n",
       "      <th>restricted_stock</th>\n",
       "      <th>restricted_stock_deferred</th>\n",
       "      <th>salary</th>\n",
       "      <th>shared_receipt_with_poi</th>\n",
       "      <th>to_messages</th>\n",
       "      <th>total_payments</th>\n",
       "      <th>total_stock_value</th>\n",
       "    </tr>\n",
       "  </thead>\n",
       "  <tbody>\n",
       "    <tr>\n",
       "      <th>METTS MARK</th>\n",
       "      <td>600000.0</td>\n",
       "      <td>0.0</td>\n",
       "      <td>0.0</td>\n",
       "      <td>0.0</td>\n",
       "      <td>0.0</td>\n",
       "      <td>0.0</td>\n",
       "      <td>94299.0</td>\n",
       "      <td>29.0</td>\n",
       "      <td>38.0</td>\n",
       "      <td>1.0</td>\n",
       "      <td>0.0</td>\n",
       "      <td>0.0</td>\n",
       "      <td>1740.0</td>\n",
       "      <td>False</td>\n",
       "      <td>585062.0</td>\n",
       "      <td>0.0</td>\n",
       "      <td>365788.0</td>\n",
       "      <td>702.0</td>\n",
       "      <td>807.0</td>\n",
       "      <td>1061827.0</td>\n",
       "      <td>585062.0</td>\n",
       "    </tr>\n",
       "    <tr>\n",
       "      <th>BAXTER JOHN C</th>\n",
       "      <td>1200000.0</td>\n",
       "      <td>1295738.0</td>\n",
       "      <td>-1386055.0</td>\n",
       "      <td>0.0</td>\n",
       "      <td>0.0</td>\n",
       "      <td>6680544.0</td>\n",
       "      <td>11200.0</td>\n",
       "      <td>0.0</td>\n",
       "      <td>0.0</td>\n",
       "      <td>0.0</td>\n",
       "      <td>0.0</td>\n",
       "      <td>1586055.0</td>\n",
       "      <td>2660303.0</td>\n",
       "      <td>False</td>\n",
       "      <td>3942714.0</td>\n",
       "      <td>0.0</td>\n",
       "      <td>267102.0</td>\n",
       "      <td>0.0</td>\n",
       "      <td>0.0</td>\n",
       "      <td>5634343.0</td>\n",
       "      <td>10623258.0</td>\n",
       "    </tr>\n",
       "    <tr>\n",
       "      <th>ELLIOTT STEVEN</th>\n",
       "      <td>350000.0</td>\n",
       "      <td>0.0</td>\n",
       "      <td>-400729.0</td>\n",
       "      <td>0.0</td>\n",
       "      <td>0.0</td>\n",
       "      <td>4890344.0</td>\n",
       "      <td>78552.0</td>\n",
       "      <td>0.0</td>\n",
       "      <td>0.0</td>\n",
       "      <td>0.0</td>\n",
       "      <td>0.0</td>\n",
       "      <td>0.0</td>\n",
       "      <td>12961.0</td>\n",
       "      <td>False</td>\n",
       "      <td>1788391.0</td>\n",
       "      <td>0.0</td>\n",
       "      <td>170941.0</td>\n",
       "      <td>0.0</td>\n",
       "      <td>0.0</td>\n",
       "      <td>211725.0</td>\n",
       "      <td>6678735.0</td>\n",
       "    </tr>\n",
       "    <tr>\n",
       "      <th>CORDES WILLIAM R</th>\n",
       "      <td>0.0</td>\n",
       "      <td>0.0</td>\n",
       "      <td>0.0</td>\n",
       "      <td>0.0</td>\n",
       "      <td>0.0</td>\n",
       "      <td>651850.0</td>\n",
       "      <td>0.0</td>\n",
       "      <td>12.0</td>\n",
       "      <td>10.0</td>\n",
       "      <td>0.0</td>\n",
       "      <td>0.0</td>\n",
       "      <td>0.0</td>\n",
       "      <td>0.0</td>\n",
       "      <td>False</td>\n",
       "      <td>386335.0</td>\n",
       "      <td>0.0</td>\n",
       "      <td>0.0</td>\n",
       "      <td>58.0</td>\n",
       "      <td>764.0</td>\n",
       "      <td>0.0</td>\n",
       "      <td>1038185.0</td>\n",
       "    </tr>\n",
       "    <tr>\n",
       "      <th>HANNON KEVIN P</th>\n",
       "      <td>1500000.0</td>\n",
       "      <td>0.0</td>\n",
       "      <td>-3117011.0</td>\n",
       "      <td>0.0</td>\n",
       "      <td>0.0</td>\n",
       "      <td>5538001.0</td>\n",
       "      <td>34039.0</td>\n",
       "      <td>32.0</td>\n",
       "      <td>32.0</td>\n",
       "      <td>21.0</td>\n",
       "      <td>0.0</td>\n",
       "      <td>1617011.0</td>\n",
       "      <td>11350.0</td>\n",
       "      <td>True</td>\n",
       "      <td>853064.0</td>\n",
       "      <td>0.0</td>\n",
       "      <td>243293.0</td>\n",
       "      <td>1035.0</td>\n",
       "      <td>1045.0</td>\n",
       "      <td>288682.0</td>\n",
       "      <td>6391065.0</td>\n",
       "    </tr>\n",
       "  </tbody>\n",
       "</table>\n",
       "</div>"
      ],
      "text/plain": [
       "                      bonus  deferral_payments  deferred_income  \\\n",
       "METTS MARK        600000.0   0.0                0.0               \n",
       "BAXTER JOHN C     1200000.0  1295738.0         -1386055.0         \n",
       "ELLIOTT STEVEN    350000.0   0.0               -400729.0          \n",
       "CORDES WILLIAM R  0.0        0.0                0.0               \n",
       "HANNON KEVIN P    1500000.0  0.0               -3117011.0         \n",
       "\n",
       "                  director_fees  email_address  exercised_stock_options  \\\n",
       "METTS MARK        0.0            0.0            0.0                       \n",
       "BAXTER JOHN C     0.0            0.0            6680544.0                 \n",
       "ELLIOTT STEVEN    0.0            0.0            4890344.0                 \n",
       "CORDES WILLIAM R  0.0            0.0            651850.0                  \n",
       "HANNON KEVIN P    0.0            0.0            5538001.0                 \n",
       "\n",
       "                  expenses  from_messages  from_poi_to_this_person  \\\n",
       "METTS MARK        94299.0   29.0           38.0                      \n",
       "BAXTER JOHN C     11200.0   0.0            0.0                       \n",
       "ELLIOTT STEVEN    78552.0   0.0            0.0                       \n",
       "CORDES WILLIAM R  0.0       12.0           10.0                      \n",
       "HANNON KEVIN P    34039.0   32.0           32.0                      \n",
       "\n",
       "                  from_this_person_to_poi  loan_advances  long_term_incentive  \\\n",
       "METTS MARK        1.0                      0.0            0.0                   \n",
       "BAXTER JOHN C     0.0                      0.0            1586055.0             \n",
       "ELLIOTT STEVEN    0.0                      0.0            0.0                   \n",
       "CORDES WILLIAM R  0.0                      0.0            0.0                   \n",
       "HANNON KEVIN P    21.0                     0.0            1617011.0             \n",
       "\n",
       "                      other    poi  restricted_stock  \\\n",
       "METTS MARK        1740.0     False  585062.0           \n",
       "BAXTER JOHN C     2660303.0  False  3942714.0          \n",
       "ELLIOTT STEVEN    12961.0    False  1788391.0          \n",
       "CORDES WILLIAM R  0.0        False  386335.0           \n",
       "HANNON KEVIN P    11350.0    True   853064.0           \n",
       "\n",
       "                  restricted_stock_deferred    salary  \\\n",
       "METTS MARK        0.0                        365788.0   \n",
       "BAXTER JOHN C     0.0                        267102.0   \n",
       "ELLIOTT STEVEN    0.0                        170941.0   \n",
       "CORDES WILLIAM R  0.0                        0.0        \n",
       "HANNON KEVIN P    0.0                        243293.0   \n",
       "\n",
       "                  shared_receipt_with_poi  to_messages  total_payments  \\\n",
       "METTS MARK        702.0                    807.0        1061827.0        \n",
       "BAXTER JOHN C     0.0                      0.0          5634343.0        \n",
       "ELLIOTT STEVEN    0.0                      0.0          211725.0         \n",
       "CORDES WILLIAM R  58.0                     764.0        0.0              \n",
       "HANNON KEVIN P    1035.0                   1045.0       288682.0         \n",
       "\n",
       "                  total_stock_value  \n",
       "METTS MARK        585062.0           \n",
       "BAXTER JOHN C     10623258.0         \n",
       "ELLIOTT STEVEN    6678735.0          \n",
       "CORDES WILLIAM R  1038185.0          \n",
       "HANNON KEVIN P    6391065.0          "
      ]
     },
     "execution_count": 95,
     "metadata": {},
     "output_type": "execute_result"
    }
   ],
   "source": [
    "# Coerce numeric values into floats or ints; also change NaN to zero:\n",
    "df_clean = df.apply(lambda x : pd.to_numeric(x, errors = 'coerce')).copy().fillna(0)\n",
    "df_clean.head()"
   ]
  },
  {
   "cell_type": "markdown",
   "metadata": {},
   "source": [
    "Removing the column of email_address from the enron_df as it is not of much used in this project."
   ]
  },
  {
   "cell_type": "code",
   "execution_count": 96,
   "metadata": {},
   "outputs": [
    {
     "data": {
      "text/plain": [
       "(146, 20)"
      ]
     },
     "execution_count": 96,
     "metadata": {},
     "output_type": "execute_result"
    }
   ],
   "source": [
    "# Dropping column 'email_address' as not required in analysis\n",
    "df_clean.drop('email_address', axis = 1, inplace = True)\n",
    "\n",
    "# Checking the changed shape of df\n",
    "df_clean.shape"
   ]
  },
  {
   "cell_type": "markdown",
   "metadata": {},
   "source": [
    "## <a id=\"outlier\" class=\"anchor\"><font color=#005ce8>4. Outlier Detect</font></a></h2>"
   ]
  },
  {
   "cell_type": "code",
   "execution_count": 97,
   "metadata": {},
   "outputs": [
    {
     "data": {
      "text/html": [
       "<div>\n",
       "<style scoped>\n",
       "    .dataframe tbody tr th:only-of-type {\n",
       "        vertical-align: middle;\n",
       "    }\n",
       "\n",
       "    .dataframe tbody tr th {\n",
       "        vertical-align: top;\n",
       "    }\n",
       "\n",
       "    .dataframe thead th {\n",
       "        text-align: right;\n",
       "    }\n",
       "</style>\n",
       "<table border=\"1\" class=\"dataframe\">\n",
       "  <thead>\n",
       "    <tr style=\"text-align: right;\">\n",
       "      <th></th>\n",
       "      <th>bonus</th>\n",
       "      <th>deferral_payments</th>\n",
       "      <th>deferred_income</th>\n",
       "      <th>director_fees</th>\n",
       "      <th>exercised_stock_options</th>\n",
       "      <th>expenses</th>\n",
       "      <th>from_messages</th>\n",
       "      <th>from_poi_to_this_person</th>\n",
       "      <th>from_this_person_to_poi</th>\n",
       "      <th>loan_advances</th>\n",
       "      <th>long_term_incentive</th>\n",
       "      <th>other</th>\n",
       "      <th>restricted_stock</th>\n",
       "      <th>restricted_stock_deferred</th>\n",
       "      <th>salary</th>\n",
       "      <th>shared_receipt_with_poi</th>\n",
       "      <th>to_messages</th>\n",
       "      <th>total_payments</th>\n",
       "      <th>total_stock_value</th>\n",
       "    </tr>\n",
       "  </thead>\n",
       "  <tbody>\n",
       "    <tr>\n",
       "      <th>count</th>\n",
       "      <td>1.460000e+02</td>\n",
       "      <td>1.460000e+02</td>\n",
       "      <td>1.460000e+02</td>\n",
       "      <td>1.460000e+02</td>\n",
       "      <td>1.460000e+02</td>\n",
       "      <td>1.460000e+02</td>\n",
       "      <td>146.000000</td>\n",
       "      <td>146.000000</td>\n",
       "      <td>146.000000</td>\n",
       "      <td>1.460000e+02</td>\n",
       "      <td>1.460000e+02</td>\n",
       "      <td>1.460000e+02</td>\n",
       "      <td>1.460000e+02</td>\n",
       "      <td>1.460000e+02</td>\n",
       "      <td>1.460000e+02</td>\n",
       "      <td>146.000000</td>\n",
       "      <td>146.000000</td>\n",
       "      <td>1.460000e+02</td>\n",
       "      <td>1.460000e+02</td>\n",
       "    </tr>\n",
       "    <tr>\n",
       "      <th>mean</th>\n",
       "      <td>1.333474e+06</td>\n",
       "      <td>4.387965e+05</td>\n",
       "      <td>-3.827622e+05</td>\n",
       "      <td>1.942249e+04</td>\n",
       "      <td>4.182736e+06</td>\n",
       "      <td>7.074827e+04</td>\n",
       "      <td>358.602740</td>\n",
       "      <td>38.226027</td>\n",
       "      <td>24.287671</td>\n",
       "      <td>1.149658e+06</td>\n",
       "      <td>6.646839e+05</td>\n",
       "      <td>5.854318e+05</td>\n",
       "      <td>1.749257e+06</td>\n",
       "      <td>2.051637e+04</td>\n",
       "      <td>3.658114e+05</td>\n",
       "      <td>692.986301</td>\n",
       "      <td>1221.589041</td>\n",
       "      <td>4.350622e+06</td>\n",
       "      <td>5.846018e+06</td>\n",
       "    </tr>\n",
       "    <tr>\n",
       "      <th>std</th>\n",
       "      <td>8.094029e+06</td>\n",
       "      <td>2.741325e+06</td>\n",
       "      <td>2.378250e+06</td>\n",
       "      <td>1.190543e+05</td>\n",
       "      <td>2.607040e+07</td>\n",
       "      <td>4.327163e+05</td>\n",
       "      <td>1441.259868</td>\n",
       "      <td>73.901124</td>\n",
       "      <td>79.278206</td>\n",
       "      <td>9.649342e+06</td>\n",
       "      <td>4.046072e+06</td>\n",
       "      <td>3.682345e+06</td>\n",
       "      <td>1.089995e+07</td>\n",
       "      <td>1.439661e+06</td>\n",
       "      <td>2.203575e+06</td>\n",
       "      <td>1072.969492</td>\n",
       "      <td>2226.770637</td>\n",
       "      <td>2.693448e+07</td>\n",
       "      <td>3.624681e+07</td>\n",
       "    </tr>\n",
       "    <tr>\n",
       "      <th>min</th>\n",
       "      <td>0.000000e+00</td>\n",
       "      <td>-1.025000e+05</td>\n",
       "      <td>-2.799289e+07</td>\n",
       "      <td>0.000000e+00</td>\n",
       "      <td>0.000000e+00</td>\n",
       "      <td>0.000000e+00</td>\n",
       "      <td>0.000000</td>\n",
       "      <td>0.000000</td>\n",
       "      <td>0.000000</td>\n",
       "      <td>0.000000e+00</td>\n",
       "      <td>0.000000e+00</td>\n",
       "      <td>0.000000e+00</td>\n",
       "      <td>-2.604490e+06</td>\n",
       "      <td>-7.576788e+06</td>\n",
       "      <td>0.000000e+00</td>\n",
       "      <td>0.000000</td>\n",
       "      <td>0.000000</td>\n",
       "      <td>0.000000e+00</td>\n",
       "      <td>-4.409300e+04</td>\n",
       "    </tr>\n",
       "    <tr>\n",
       "      <th>25%</th>\n",
       "      <td>0.000000e+00</td>\n",
       "      <td>0.000000e+00</td>\n",
       "      <td>-3.792600e+04</td>\n",
       "      <td>0.000000e+00</td>\n",
       "      <td>0.000000e+00</td>\n",
       "      <td>0.000000e+00</td>\n",
       "      <td>0.000000</td>\n",
       "      <td>0.000000</td>\n",
       "      <td>0.000000</td>\n",
       "      <td>0.000000e+00</td>\n",
       "      <td>0.000000e+00</td>\n",
       "      <td>0.000000e+00</td>\n",
       "      <td>8.115000e+03</td>\n",
       "      <td>0.000000e+00</td>\n",
       "      <td>0.000000e+00</td>\n",
       "      <td>0.000000</td>\n",
       "      <td>0.000000</td>\n",
       "      <td>9.394475e+04</td>\n",
       "      <td>2.288695e+05</td>\n",
       "    </tr>\n",
       "    <tr>\n",
       "      <th>50%</th>\n",
       "      <td>3.000000e+05</td>\n",
       "      <td>0.000000e+00</td>\n",
       "      <td>0.000000e+00</td>\n",
       "      <td>0.000000e+00</td>\n",
       "      <td>6.082935e+05</td>\n",
       "      <td>2.018200e+04</td>\n",
       "      <td>16.500000</td>\n",
       "      <td>2.500000</td>\n",
       "      <td>0.000000</td>\n",
       "      <td>0.000000e+00</td>\n",
       "      <td>0.000000e+00</td>\n",
       "      <td>9.595000e+02</td>\n",
       "      <td>3.605280e+05</td>\n",
       "      <td>0.000000e+00</td>\n",
       "      <td>2.105960e+05</td>\n",
       "      <td>102.500000</td>\n",
       "      <td>289.000000</td>\n",
       "      <td>9.413595e+05</td>\n",
       "      <td>9.659550e+05</td>\n",
       "    </tr>\n",
       "    <tr>\n",
       "      <th>75%</th>\n",
       "      <td>8.000000e+05</td>\n",
       "      <td>9.684500e+03</td>\n",
       "      <td>0.000000e+00</td>\n",
       "      <td>0.000000e+00</td>\n",
       "      <td>1.714221e+06</td>\n",
       "      <td>5.374075e+04</td>\n",
       "      <td>51.250000</td>\n",
       "      <td>40.750000</td>\n",
       "      <td>13.750000</td>\n",
       "      <td>0.000000e+00</td>\n",
       "      <td>3.750648e+05</td>\n",
       "      <td>1.506065e+05</td>\n",
       "      <td>8.145280e+05</td>\n",
       "      <td>0.000000e+00</td>\n",
       "      <td>2.708505e+05</td>\n",
       "      <td>893.500000</td>\n",
       "      <td>1585.750000</td>\n",
       "      <td>1.968287e+06</td>\n",
       "      <td>2.319991e+06</td>\n",
       "    </tr>\n",
       "    <tr>\n",
       "      <th>max</th>\n",
       "      <td>9.734362e+07</td>\n",
       "      <td>3.208340e+07</td>\n",
       "      <td>0.000000e+00</td>\n",
       "      <td>1.398517e+06</td>\n",
       "      <td>3.117640e+08</td>\n",
       "      <td>5.235198e+06</td>\n",
       "      <td>14368.000000</td>\n",
       "      <td>528.000000</td>\n",
       "      <td>609.000000</td>\n",
       "      <td>8.392500e+07</td>\n",
       "      <td>4.852193e+07</td>\n",
       "      <td>4.266759e+07</td>\n",
       "      <td>1.303223e+08</td>\n",
       "      <td>1.545629e+07</td>\n",
       "      <td>2.670423e+07</td>\n",
       "      <td>5521.000000</td>\n",
       "      <td>15149.000000</td>\n",
       "      <td>3.098866e+08</td>\n",
       "      <td>4.345095e+08</td>\n",
       "    </tr>\n",
       "  </tbody>\n",
       "</table>\n",
       "</div>"
      ],
      "text/plain": [
       "              bonus  deferral_payments  deferred_income  director_fees  \\\n",
       "count  1.460000e+02  1.460000e+02       1.460000e+02     1.460000e+02    \n",
       "mean   1.333474e+06  4.387965e+05      -3.827622e+05     1.942249e+04    \n",
       "std    8.094029e+06  2.741325e+06       2.378250e+06     1.190543e+05    \n",
       "min    0.000000e+00 -1.025000e+05      -2.799289e+07     0.000000e+00    \n",
       "25%    0.000000e+00  0.000000e+00      -3.792600e+04     0.000000e+00    \n",
       "50%    3.000000e+05  0.000000e+00       0.000000e+00     0.000000e+00    \n",
       "75%    8.000000e+05  9.684500e+03       0.000000e+00     0.000000e+00    \n",
       "max    9.734362e+07  3.208340e+07       0.000000e+00     1.398517e+06    \n",
       "\n",
       "       exercised_stock_options      expenses  from_messages  \\\n",
       "count  1.460000e+02             1.460000e+02  146.000000      \n",
       "mean   4.182736e+06             7.074827e+04  358.602740      \n",
       "std    2.607040e+07             4.327163e+05  1441.259868     \n",
       "min    0.000000e+00             0.000000e+00  0.000000        \n",
       "25%    0.000000e+00             0.000000e+00  0.000000        \n",
       "50%    6.082935e+05             2.018200e+04  16.500000       \n",
       "75%    1.714221e+06             5.374075e+04  51.250000       \n",
       "max    3.117640e+08             5.235198e+06  14368.000000    \n",
       "\n",
       "       from_poi_to_this_person  from_this_person_to_poi  loan_advances  \\\n",
       "count  146.000000               146.000000               1.460000e+02    \n",
       "mean   38.226027                24.287671                1.149658e+06    \n",
       "std    73.901124                79.278206                9.649342e+06    \n",
       "min    0.000000                 0.000000                 0.000000e+00    \n",
       "25%    0.000000                 0.000000                 0.000000e+00    \n",
       "50%    2.500000                 0.000000                 0.000000e+00    \n",
       "75%    40.750000                13.750000                0.000000e+00    \n",
       "max    528.000000               609.000000               8.392500e+07    \n",
       "\n",
       "       long_term_incentive         other  restricted_stock  \\\n",
       "count  1.460000e+02         1.460000e+02  1.460000e+02       \n",
       "mean   6.646839e+05         5.854318e+05  1.749257e+06       \n",
       "std    4.046072e+06         3.682345e+06  1.089995e+07       \n",
       "min    0.000000e+00         0.000000e+00 -2.604490e+06       \n",
       "25%    0.000000e+00         0.000000e+00  8.115000e+03       \n",
       "50%    0.000000e+00         9.595000e+02  3.605280e+05       \n",
       "75%    3.750648e+05         1.506065e+05  8.145280e+05       \n",
       "max    4.852193e+07         4.266759e+07  1.303223e+08       \n",
       "\n",
       "       restricted_stock_deferred        salary  shared_receipt_with_poi  \\\n",
       "count  1.460000e+02               1.460000e+02  146.000000                \n",
       "mean   2.051637e+04               3.658114e+05  692.986301                \n",
       "std    1.439661e+06               2.203575e+06  1072.969492               \n",
       "min   -7.576788e+06               0.000000e+00  0.000000                  \n",
       "25%    0.000000e+00               0.000000e+00  0.000000                  \n",
       "50%    0.000000e+00               2.105960e+05  102.500000                \n",
       "75%    0.000000e+00               2.708505e+05  893.500000                \n",
       "max    1.545629e+07               2.670423e+07  5521.000000               \n",
       "\n",
       "        to_messages  total_payments  total_stock_value  \n",
       "count  146.000000    1.460000e+02    1.460000e+02       \n",
       "mean   1221.589041   4.350622e+06    5.846018e+06       \n",
       "std    2226.770637   2.693448e+07    3.624681e+07       \n",
       "min    0.000000      0.000000e+00   -4.409300e+04       \n",
       "25%    0.000000      9.394475e+04    2.288695e+05       \n",
       "50%    289.000000    9.413595e+05    9.659550e+05       \n",
       "75%    1585.750000   1.968287e+06    2.319991e+06       \n",
       "max    15149.000000  3.098866e+08    4.345095e+08       "
      ]
     },
     "execution_count": 97,
     "metadata": {},
     "output_type": "execute_result"
    }
   ],
   "source": [
    "df_clean.describe()"
   ]
  },
  {
   "cell_type": "code",
   "execution_count": 98,
   "metadata": {},
   "outputs": [
    {
     "data": {
      "image/png": "[encoded data removed]",
      "text/plain": [
       "<Figure size 432x288 with 1 Axes>"
      ]
     },
     "metadata": {
      "needs_background": "light"
     },
     "output_type": "display_data"
    }
   ],
   "source": [
    "plt.scatter(df_clean['salary'][df_clean['poi'] == True], df_clean['bonus'][df_clean['poi'] == True], color = 'r',\n",
    "           label = 'POI')\n",
    "plt.scatter(df_clean['salary'][df_clean['poi'] == False], df_clean['bonus'][df_clean['poi'] == False], color = 'g',\n",
    "           label = 'Not-POI')\n",
    "    \n",
    "plt.xlabel(\"Salary\")\n",
    "plt.ylabel(\"Bonus\")\n",
    "plt.title(\"BONUS VS SALARY\")\n",
    "plt.legend(loc='upper left')\n",
    "plt.show()"
   ]
  },
  {
   "cell_type": "markdown",
   "metadata": {},
   "source": [
    "We can see that one point has a very high bonus and salary"
   ]
  },
  {
   "cell_type": "code",
   "execution_count": 99,
   "metadata": {},
   "outputs": [
    {
     "name": "stdout",
     "output_type": "stream",
     "text": [
      "Max Salary: U$$26704229\n"
     ]
    }
   ],
   "source": [
    "max_salary = df_clean['salary'].max()\n",
    "print(\"Max Salary: U$${}\".format(int(max_salary)))"
   ]
  },
  {
   "cell_type": "code",
   "execution_count": 100,
   "metadata": {},
   "outputs": [
    {
     "data": {
      "text/html": [
       "<div>\n",
       "<style scoped>\n",
       "    .dataframe tbody tr th:only-of-type {\n",
       "        vertical-align: middle;\n",
       "    }\n",
       "\n",
       "    .dataframe tbody tr th {\n",
       "        vertical-align: top;\n",
       "    }\n",
       "\n",
       "    .dataframe thead th {\n",
       "        text-align: right;\n",
       "    }\n",
       "</style>\n",
       "<table border=\"1\" class=\"dataframe\">\n",
       "  <thead>\n",
       "    <tr style=\"text-align: right;\">\n",
       "      <th></th>\n",
       "      <th>bonus</th>\n",
       "      <th>deferral_payments</th>\n",
       "      <th>deferred_income</th>\n",
       "      <th>director_fees</th>\n",
       "      <th>exercised_stock_options</th>\n",
       "      <th>expenses</th>\n",
       "      <th>from_messages</th>\n",
       "      <th>from_poi_to_this_person</th>\n",
       "      <th>from_this_person_to_poi</th>\n",
       "      <th>loan_advances</th>\n",
       "      <th>long_term_incentive</th>\n",
       "      <th>other</th>\n",
       "      <th>poi</th>\n",
       "      <th>restricted_stock</th>\n",
       "      <th>restricted_stock_deferred</th>\n",
       "      <th>salary</th>\n",
       "      <th>shared_receipt_with_poi</th>\n",
       "      <th>to_messages</th>\n",
       "      <th>total_payments</th>\n",
       "      <th>total_stock_value</th>\n",
       "    </tr>\n",
       "  </thead>\n",
       "  <tbody>\n",
       "    <tr>\n",
       "      <th>TOTAL</th>\n",
       "      <td>97343619.0</td>\n",
       "      <td>32083396.0</td>\n",
       "      <td>-27992891.0</td>\n",
       "      <td>1398517.0</td>\n",
       "      <td>311764000.0</td>\n",
       "      <td>5235198.0</td>\n",
       "      <td>0.0</td>\n",
       "      <td>0.0</td>\n",
       "      <td>0.0</td>\n",
       "      <td>83925000.0</td>\n",
       "      <td>48521928.0</td>\n",
       "      <td>42667589.0</td>\n",
       "      <td>False</td>\n",
       "      <td>130322299.0</td>\n",
       "      <td>-7576788.0</td>\n",
       "      <td>26704229.0</td>\n",
       "      <td>0.0</td>\n",
       "      <td>0.0</td>\n",
       "      <td>309886585.0</td>\n",
       "      <td>434509511.0</td>\n",
       "    </tr>\n",
       "  </tbody>\n",
       "</table>\n",
       "</div>"
      ],
      "text/plain": [
       "            bonus  deferral_payments  deferred_income  director_fees  \\\n",
       "TOTAL  97343619.0  32083396.0        -27992891.0       1398517.0       \n",
       "\n",
       "       exercised_stock_options   expenses  from_messages  \\\n",
       "TOTAL  311764000.0              5235198.0  0.0             \n",
       "\n",
       "       from_poi_to_this_person  from_this_person_to_poi  loan_advances  \\\n",
       "TOTAL  0.0                      0.0                      83925000.0      \n",
       "\n",
       "       long_term_incentive       other    poi  restricted_stock  \\\n",
       "TOTAL  48521928.0           42667589.0  False  130322299.0        \n",
       "\n",
       "       restricted_stock_deferred      salary  shared_receipt_with_poi  \\\n",
       "TOTAL -7576788.0                  26704229.0  0.0                       \n",
       "\n",
       "       to_messages  total_payments  total_stock_value  \n",
       "TOTAL  0.0          309886585.0     434509511.0        "
      ]
     },
     "execution_count": 100,
     "metadata": {},
     "output_type": "execute_result"
    }
   ],
   "source": [
    "df_clean.loc[df_clean['salary'] == max_salary]"
   ]
  },
  {
   "cell_type": "markdown",
   "metadata": {},
   "source": [
    "##### Dropping total"
   ]
  },
  {
   "cell_type": "code",
   "execution_count": 101,
   "metadata": {},
   "outputs": [],
   "source": [
    "df_clean = df_clean[df_clean.index != 'TOTAL']"
   ]
  },
  {
   "cell_type": "code",
   "execution_count": 102,
   "metadata": {},
   "outputs": [
    {
     "data": {
      "text/html": [
       "<div>\n",
       "<style scoped>\n",
       "    .dataframe tbody tr th:only-of-type {\n",
       "        vertical-align: middle;\n",
       "    }\n",
       "\n",
       "    .dataframe tbody tr th {\n",
       "        vertical-align: top;\n",
       "    }\n",
       "\n",
       "    .dataframe thead th {\n",
       "        text-align: right;\n",
       "    }\n",
       "</style>\n",
       "<table border=\"1\" class=\"dataframe\">\n",
       "  <thead>\n",
       "    <tr style=\"text-align: right;\">\n",
       "      <th></th>\n",
       "      <th>bonus</th>\n",
       "      <th>deferral_payments</th>\n",
       "      <th>deferred_income</th>\n",
       "      <th>director_fees</th>\n",
       "      <th>exercised_stock_options</th>\n",
       "      <th>expenses</th>\n",
       "      <th>from_messages</th>\n",
       "      <th>from_poi_to_this_person</th>\n",
       "      <th>from_this_person_to_poi</th>\n",
       "      <th>loan_advances</th>\n",
       "      <th>long_term_incentive</th>\n",
       "      <th>other</th>\n",
       "      <th>poi</th>\n",
       "      <th>restricted_stock</th>\n",
       "      <th>restricted_stock_deferred</th>\n",
       "      <th>salary</th>\n",
       "      <th>shared_receipt_with_poi</th>\n",
       "      <th>to_messages</th>\n",
       "      <th>total_payments</th>\n",
       "      <th>total_stock_value</th>\n",
       "    </tr>\n",
       "  </thead>\n",
       "  <tbody>\n",
       "  </tbody>\n",
       "</table>\n",
       "</div>"
      ],
      "text/plain": [
       "Empty DataFrame\n",
       "Columns: [bonus, deferral_payments, deferred_income, director_fees, exercised_stock_options, expenses, from_messages, from_poi_to_this_person, from_this_person_to_poi, loan_advances, long_term_incentive, other, poi, restricted_stock, restricted_stock_deferred, salary, shared_receipt_with_poi, to_messages, total_payments, total_stock_value]\n",
       "Index: []"
      ]
     },
     "execution_count": 102,
     "metadata": {},
     "output_type": "execute_result"
    }
   ],
   "source": [
    "# Testing if it worked \n",
    "df_clean.loc[df_clean['salary'] == max_salary]"
   ]
  },
  {
   "cell_type": "markdown",
   "metadata": {},
   "source": [
    "##### Plotting the scatter plot without the outlier"
   ]
  },
  {
   "cell_type": "code",
   "execution_count": 103,
   "metadata": {},
   "outputs": [
    {
     "data": {
      "image/png": "[encoded data removed]",
      "text/plain": [
       "<Figure size 432x288 with 1 Axes>"
      ]
     },
     "metadata": {
      "needs_background": "light"
     },
     "output_type": "display_data"
    }
   ],
   "source": [
    "plt.scatter(df_clean['salary'][df_clean['poi'] == True], df_clean['bonus'][df_clean['poi'] == True], color = 'r',\n",
    "           label = 'POI')\n",
    "plt.scatter(df_clean['salary'][df_clean['poi'] == False], df_clean['bonus'][df_clean['poi'] == False], color = 'g',\n",
    "           label = 'Not-POI')\n",
    "    \n",
    "plt.xlabel(\"Salary\")\n",
    "plt.ylabel(\"Bonus\")\n",
    "plt.title(\"BONUS VS SALARY\")\n",
    "plt.legend(loc='upper left')\n",
    "plt.show()"
   ]
  },
  {
   "cell_type": "markdown",
   "metadata": {},
   "source": [
    "From the above figure, its observed that the data becomes more spread out and more comprehensable after the outlier removal. Its also observed that values of bonuses of POIs are higher than that of non-POIs.\n",
    "\n",
    "As the POI's were taking larger amounts of money as bonus, in addition to their high salary so it can be stated that the ratio of bonus to salary of the POI's will be higher as compared to that of non-POI's. So i create a new feature called bonus-to-salary_ratio hoping that it may aid in the POI identification in the later parts of this project. "
   ]
  },
  {
   "cell_type": "code",
   "execution_count": 104,
   "metadata": {},
   "outputs": [],
   "source": [
    "# Created a new feature\n",
    "df_clean['bonus-to-salary_ratio'] = df_clean['bonus']/df_clean['salary']"
   ]
  },
  {
   "cell_type": "code",
   "execution_count": 105,
   "metadata": {},
   "outputs": [
    {
     "data": {
      "text/html": [
       "<div>\n",
       "<style scoped>\n",
       "    .dataframe tbody tr th:only-of-type {\n",
       "        vertical-align: middle;\n",
       "    }\n",
       "\n",
       "    .dataframe tbody tr th {\n",
       "        vertical-align: top;\n",
       "    }\n",
       "\n",
       "    .dataframe thead th {\n",
       "        text-align: right;\n",
       "    }\n",
       "</style>\n",
       "<table border=\"1\" class=\"dataframe\">\n",
       "  <thead>\n",
       "    <tr style=\"text-align: right;\">\n",
       "      <th></th>\n",
       "      <th>bonus</th>\n",
       "      <th>deferral_payments</th>\n",
       "      <th>deferred_income</th>\n",
       "      <th>director_fees</th>\n",
       "      <th>exercised_stock_options</th>\n",
       "      <th>expenses</th>\n",
       "      <th>from_messages</th>\n",
       "      <th>from_poi_to_this_person</th>\n",
       "      <th>from_this_person_to_poi</th>\n",
       "      <th>loan_advances</th>\n",
       "      <th>long_term_incentive</th>\n",
       "      <th>other</th>\n",
       "      <th>restricted_stock</th>\n",
       "      <th>restricted_stock_deferred</th>\n",
       "      <th>salary</th>\n",
       "      <th>shared_receipt_with_poi</th>\n",
       "      <th>to_messages</th>\n",
       "      <th>total_payments</th>\n",
       "      <th>total_stock_value</th>\n",
       "      <th>bonus-to-salary_ratio</th>\n",
       "    </tr>\n",
       "    <tr>\n",
       "      <th>poi</th>\n",
       "      <th></th>\n",
       "      <th></th>\n",
       "      <th></th>\n",
       "      <th></th>\n",
       "      <th></th>\n",
       "      <th></th>\n",
       "      <th></th>\n",
       "      <th></th>\n",
       "      <th></th>\n",
       "      <th></th>\n",
       "      <th></th>\n",
       "      <th></th>\n",
       "      <th></th>\n",
       "      <th></th>\n",
       "      <th></th>\n",
       "      <th></th>\n",
       "      <th></th>\n",
       "      <th></th>\n",
       "      <th></th>\n",
       "      <th></th>\n",
       "    </tr>\n",
       "  </thead>\n",
       "  <tbody>\n",
       "    <tr>\n",
       "      <th>False</th>\n",
       "      <td>5.050679e+05</td>\n",
       "      <td>231349.803150</td>\n",
       "      <td>-129936.559055</td>\n",
       "      <td>11316.267717</td>\n",
       "      <td>1.364960e+06</td>\n",
       "      <td>31624.566929</td>\n",
       "      <td>379.141732</td>\n",
       "      <td>33.165354</td>\n",
       "      <td>20.566929</td>\n",
       "      <td>1.889764e+04</td>\n",
       "      <td>268217.157480</td>\n",
       "      <td>223240.157480</td>\n",
       "      <td>6.744305e+05</td>\n",
       "      <td>83245.496063</td>\n",
       "      <td>158942.251969</td>\n",
       "      <td>600.110236</td>\n",
       "      <td>1137.889764</td>\n",
       "      <td>1.439839e+06</td>\n",
       "      <td>2.000213e+06</td>\n",
       "      <td>2.905900</td>\n",
       "    </tr>\n",
       "    <tr>\n",
       "      <th>True</th>\n",
       "      <td>1.844444e+06</td>\n",
       "      <td>144415.055556</td>\n",
       "      <td>-632691.555556</td>\n",
       "      <td>0.000000</td>\n",
       "      <td>6.975862e+06</td>\n",
       "      <td>59873.833333</td>\n",
       "      <td>233.611111</td>\n",
       "      <td>76.055556</td>\n",
       "      <td>51.888889</td>\n",
       "      <td>4.529167e+06</td>\n",
       "      <td>803241.611111</td>\n",
       "      <td>802997.388889</td>\n",
       "      <td>2.189808e+06</td>\n",
       "      <td>0.000000</td>\n",
       "      <td>362142.388889</td>\n",
       "      <td>1386.777778</td>\n",
       "      <td>1880.000000</td>\n",
       "      <td>7.913590e+06</td>\n",
       "      <td>9.165671e+06</td>\n",
       "      <td>5.056975</td>\n",
       "    </tr>\n",
       "  </tbody>\n",
       "</table>\n",
       "</div>"
      ],
      "text/plain": [
       "              bonus  deferral_payments  deferred_income  director_fees  \\\n",
       "poi                                                                      \n",
       "False  5.050679e+05  231349.803150     -129936.559055    11316.267717    \n",
       "True   1.844444e+06  144415.055556     -632691.555556    0.000000        \n",
       "\n",
       "       exercised_stock_options      expenses  from_messages  \\\n",
       "poi                                                           \n",
       "False  1.364960e+06             31624.566929  379.141732      \n",
       "True   6.975862e+06             59873.833333  233.611111      \n",
       "\n",
       "       from_poi_to_this_person  from_this_person_to_poi  loan_advances  \\\n",
       "poi                                                                      \n",
       "False  33.165354                20.566929                1.889764e+04    \n",
       "True   76.055556                51.888889                4.529167e+06    \n",
       "\n",
       "       long_term_incentive          other  restricted_stock  \\\n",
       "poi                                                           \n",
       "False  268217.157480        223240.157480  6.744305e+05       \n",
       "True   803241.611111        802997.388889  2.189808e+06       \n",
       "\n",
       "       restricted_stock_deferred         salary  shared_receipt_with_poi  \\\n",
       "poi                                                                        \n",
       "False  83245.496063               158942.251969  600.110236                \n",
       "True   0.000000                   362142.388889  1386.777778               \n",
       "\n",
       "       to_messages  total_payments  total_stock_value  bonus-to-salary_ratio  \n",
       "poi                                                                           \n",
       "False  1137.889764  1.439839e+06    2.000213e+06       2.905900               \n",
       "True   1880.000000  7.913590e+06    9.165671e+06       5.056975               "
      ]
     },
     "execution_count": 105,
     "metadata": {},
     "output_type": "execute_result"
    }
   ],
   "source": [
    "df_clean.groupby(['poi']).mean()"
   ]
  },
  {
   "cell_type": "code",
   "execution_count": 106,
   "metadata": {},
   "outputs": [],
   "source": [
    "poiRatioMean = 5.056975\n",
    "NpoiRatioMean = 2.905900"
   ]
  },
  {
   "cell_type": "code",
   "execution_count": 107,
   "metadata": {},
   "outputs": [
    {
     "name": "stdout",
     "output_type": "stream",
     "text": [
      "POI'S Bonus To Salary Ratio: 505.70%\n",
      "Non-POI'S Bonus To Salary Ratio: 290.59%\n"
     ]
    }
   ],
   "source": [
    "print(\"POI'S Bonus To Salary Ratio: {:.2%}\".format(poiRatioMean))\n",
    "print(\"Non-POI'S Bonus To Salary Ratio: {:.2%}\".format(NpoiRatioMean))"
   ]
  },
  {
   "cell_type": "code",
   "execution_count": 108,
   "metadata": {},
   "outputs": [
    {
     "data": {
      "image/png": "[encoded data removed]",
      "text/plain": [
       "<Figure size 1080x864 with 2 Axes>"
      ]
     },
     "metadata": {
      "needs_background": "light"
     },
     "output_type": "display_data"
    }
   ],
   "source": [
    "plt.figure(figsize=(15,12))\n",
    "plt.subplot(2, 2, 1)\n",
    "sns.distplot(df_clean['salary'], color='Blue')\n",
    "plt.title(\"Salary Distribution\")\n",
    "plt.grid(alpha=0.5)\n",
    "\n",
    "plt.subplot(2, 2, 2)\n",
    "sns.distplot(df_clean['bonus'], color='Green')\n",
    "plt.title(\"Bonus Distribution\")\n",
    "plt.grid(alpha=0.5)"
   ]
  },
  {
   "cell_type": "markdown",
   "metadata": {},
   "source": [
    "####  Removing Outlier 2 : 'THE TRAVEL AGENCY IN THE PARK'\n",
    "From the documentary Enron The Smartest Guys In The Room i had learnt that Enron had made up some transactions with bogus companies and people so on observing the features of this dataset it can be considered as an outlier with very low values in all features except in others and total-payments and i am removing it."
   ]
  },
  {
   "cell_type": "code",
   "execution_count": 109,
   "metadata": {},
   "outputs": [
    {
     "data": {
      "text/html": [
       "<div>\n",
       "<style scoped>\n",
       "    .dataframe tbody tr th:only-of-type {\n",
       "        vertical-align: middle;\n",
       "    }\n",
       "\n",
       "    .dataframe tbody tr th {\n",
       "        vertical-align: top;\n",
       "    }\n",
       "\n",
       "    .dataframe thead th {\n",
       "        text-align: right;\n",
       "    }\n",
       "</style>\n",
       "<table border=\"1\" class=\"dataframe\">\n",
       "  <thead>\n",
       "    <tr style=\"text-align: right;\">\n",
       "      <th></th>\n",
       "      <th>bonus</th>\n",
       "      <th>deferral_payments</th>\n",
       "      <th>deferred_income</th>\n",
       "      <th>director_fees</th>\n",
       "      <th>exercised_stock_options</th>\n",
       "      <th>expenses</th>\n",
       "      <th>from_messages</th>\n",
       "      <th>from_poi_to_this_person</th>\n",
       "      <th>from_this_person_to_poi</th>\n",
       "      <th>loan_advances</th>\n",
       "      <th>long_term_incentive</th>\n",
       "      <th>other</th>\n",
       "      <th>poi</th>\n",
       "      <th>restricted_stock</th>\n",
       "      <th>restricted_stock_deferred</th>\n",
       "      <th>salary</th>\n",
       "      <th>shared_receipt_with_poi</th>\n",
       "      <th>to_messages</th>\n",
       "      <th>total_payments</th>\n",
       "      <th>total_stock_value</th>\n",
       "      <th>bonus-to-salary_ratio</th>\n",
       "    </tr>\n",
       "  </thead>\n",
       "  <tbody>\n",
       "    <tr>\n",
       "      <th>THE TRAVEL AGENCY IN THE PARK</th>\n",
       "      <td>0.0</td>\n",
       "      <td>0.0</td>\n",
       "      <td>0.0</td>\n",
       "      <td>0.0</td>\n",
       "      <td>0.0</td>\n",
       "      <td>0.0</td>\n",
       "      <td>0.0</td>\n",
       "      <td>0.0</td>\n",
       "      <td>0.0</td>\n",
       "      <td>0.0</td>\n",
       "      <td>0.0</td>\n",
       "      <td>362096.0</td>\n",
       "      <td>False</td>\n",
       "      <td>0.0</td>\n",
       "      <td>0.0</td>\n",
       "      <td>0.0</td>\n",
       "      <td>0.0</td>\n",
       "      <td>0.0</td>\n",
       "      <td>362096.0</td>\n",
       "      <td>0.0</td>\n",
       "      <td>NaN</td>\n",
       "    </tr>\n",
       "  </tbody>\n",
       "</table>\n",
       "</div>"
      ],
      "text/plain": [
       "                               bonus  deferral_payments  deferred_income  \\\n",
       "THE TRAVEL AGENCY IN THE PARK  0.0    0.0                0.0               \n",
       "\n",
       "                               director_fees  exercised_stock_options  \\\n",
       "THE TRAVEL AGENCY IN THE PARK  0.0            0.0                       \n",
       "\n",
       "                               expenses  from_messages  \\\n",
       "THE TRAVEL AGENCY IN THE PARK  0.0       0.0             \n",
       "\n",
       "                               from_poi_to_this_person  \\\n",
       "THE TRAVEL AGENCY IN THE PARK  0.0                       \n",
       "\n",
       "                               from_this_person_to_poi  loan_advances  \\\n",
       "THE TRAVEL AGENCY IN THE PARK  0.0                      0.0             \n",
       "\n",
       "                               long_term_incentive     other    poi  \\\n",
       "THE TRAVEL AGENCY IN THE PARK  0.0                  362096.0  False   \n",
       "\n",
       "                               restricted_stock  restricted_stock_deferred  \\\n",
       "THE TRAVEL AGENCY IN THE PARK  0.0               0.0                         \n",
       "\n",
       "                               salary  shared_receipt_with_poi  to_messages  \\\n",
       "THE TRAVEL AGENCY IN THE PARK  0.0     0.0                      0.0           \n",
       "\n",
       "                               total_payments  total_stock_value  \\\n",
       "THE TRAVEL AGENCY IN THE PARK  362096.0        0.0                 \n",
       "\n",
       "                               bonus-to-salary_ratio  \n",
       "THE TRAVEL AGENCY IN THE PARK NaN                     "
      ]
     },
     "execution_count": 109,
     "metadata": {},
     "output_type": "execute_result"
    }
   ],
   "source": [
    "# Loc the travel agency in the park\n",
    "df_clean.loc[df_clean.index == 'THE TRAVEL AGENCY IN THE PARK']"
   ]
  },
  {
   "cell_type": "code",
   "execution_count": 110,
   "metadata": {},
   "outputs": [],
   "source": [
    "df_clean = df_clean[df_clean.index != 'THE TRAVEL AGENCY IN THE PARK']"
   ]
  },
  {
   "cell_type": "code",
   "execution_count": 111,
   "metadata": {},
   "outputs": [
    {
     "data": {
      "text/html": [
       "<div>\n",
       "<style scoped>\n",
       "    .dataframe tbody tr th:only-of-type {\n",
       "        vertical-align: middle;\n",
       "    }\n",
       "\n",
       "    .dataframe tbody tr th {\n",
       "        vertical-align: top;\n",
       "    }\n",
       "\n",
       "    .dataframe thead th {\n",
       "        text-align: right;\n",
       "    }\n",
       "</style>\n",
       "<table border=\"1\" class=\"dataframe\">\n",
       "  <thead>\n",
       "    <tr style=\"text-align: right;\">\n",
       "      <th></th>\n",
       "      <th>bonus</th>\n",
       "      <th>deferral_payments</th>\n",
       "      <th>deferred_income</th>\n",
       "      <th>director_fees</th>\n",
       "      <th>exercised_stock_options</th>\n",
       "      <th>expenses</th>\n",
       "      <th>from_messages</th>\n",
       "      <th>from_poi_to_this_person</th>\n",
       "      <th>from_this_person_to_poi</th>\n",
       "      <th>loan_advances</th>\n",
       "      <th>long_term_incentive</th>\n",
       "      <th>other</th>\n",
       "      <th>poi</th>\n",
       "      <th>restricted_stock</th>\n",
       "      <th>restricted_stock_deferred</th>\n",
       "      <th>salary</th>\n",
       "      <th>shared_receipt_with_poi</th>\n",
       "      <th>to_messages</th>\n",
       "      <th>total_payments</th>\n",
       "      <th>total_stock_value</th>\n",
       "      <th>bonus-to-salary_ratio</th>\n",
       "    </tr>\n",
       "  </thead>\n",
       "  <tbody>\n",
       "  </tbody>\n",
       "</table>\n",
       "</div>"
      ],
      "text/plain": [
       "Empty DataFrame\n",
       "Columns: [bonus, deferral_payments, deferred_income, director_fees, exercised_stock_options, expenses, from_messages, from_poi_to_this_person, from_this_person_to_poi, loan_advances, long_term_incentive, other, poi, restricted_stock, restricted_stock_deferred, salary, shared_receipt_with_poi, to_messages, total_payments, total_stock_value, bonus-to-salary_ratio]\n",
       "Index: []"
      ]
     },
     "execution_count": 111,
     "metadata": {},
     "output_type": "execute_result"
    }
   ],
   "source": [
    "# Testing if it worked \n",
    "df_clean.loc[df_clean.index == 'THE TRAVEL AGENCY IN THE PARK']"
   ]
  },
  {
   "cell_type": "markdown",
   "metadata": {},
   "source": [
    "According to BusinessDictionary.com : Deferred payment is \"a loan arrangement in which the borrower is allowed to start making payments at some specified time in the future. Deferred payment arrangements are often used in retail settings where a person buys and receives an item with a commitment to begin making payments at a future date.\"\n",
    "\n",
    "Deferred income : (also known as deferred revenue, unearned revenue, or unearned income) is, in accrual accounting, money received for goods or services which have not yet been delivered. According to the revenue recognition principle, it is recorded as a liability until delivery is made, at which time it is converted into revenue.\n",
    "\n",
    "As Enron scam involved a lot of undisclosed assets and cheating public by selling assets to shell companies at end of each month and buying them back at the start of next month to hide the acounting losses so there are chances that lot of deferred revenue by the company was used by the POI's."
   ]
  },
  {
   "cell_type": "code",
   "execution_count": 112,
   "metadata": {},
   "outputs": [
    {
     "data": {
      "text/plain": [
       "count    1.440000e+02\n",
       "mean    -1.936833e+05\n",
       "std      6.060111e+05\n",
       "min     -3.504386e+06\n",
       "25%     -3.708600e+04\n",
       "50%      0.000000e+00\n",
       "75%      0.000000e+00\n",
       "max      0.000000e+00\n",
       "Name: deferred_income, dtype: float64"
      ]
     },
     "execution_count": 112,
     "metadata": {},
     "output_type": "execute_result"
    }
   ],
   "source": [
    "df_clean['deferred_income'].describe()"
   ]
  },
  {
   "cell_type": "markdown",
   "metadata": {},
   "source": [
    "The deferred_income feature has mostly negative values as it is the money which has to be returned by the company."
   ]
  },
  {
   "cell_type": "code",
   "execution_count": 113,
   "metadata": {},
   "outputs": [],
   "source": [
    "poi_list = df_clean['poi'].value_counts()[1]\n",
    "non_poi_list = df_clean['poi'].value_counts()[0]"
   ]
  },
  {
   "cell_type": "code",
   "execution_count": 114,
   "metadata": {},
   "outputs": [
    {
     "name": "stdout",
     "output_type": "stream",
     "text": [
      "POI'S Length: 18\n",
      "NON-POI'S Length: 126\n"
     ]
    }
   ],
   "source": [
    "print(\"POI'S Length: {}\".format(poi_list))\n",
    "print(\"NON-POI'S Length: {}\".format(non_poi_list))"
   ]
  },
  {
   "cell_type": "markdown",
   "metadata": {},
   "source": [
    "### Financial Features : Deferred_income, deferred_payment and total_payment\n",
    "According to BusinessDictionary.com : Deferred payment is \"a loan arrangement in which the borrower is allowed to start making payments at some specified time in the future. Deferred payment arrangements are often used in retail settings where a person buys and receives an item with a commitment to begin making payments at a future date.\"\n",
    "\n",
    "Deferred income : (also known as deferred revenue, unearned revenue, or unearned income) is, in accrual accounting, money received for goods or services which have not yet been delivered. According to the revenue recognition principle, it is recorded as a liability until delivery is made, at which time it is converted into revenue.\n",
    "\n",
    "As Enron scam involved a lot of undisclosed assets and cheating public by selling assets to shell companies at end of each month and buying them back at the start of next month to hide the acounting losses so there are chances that lot of deferred revenue by the company was used by the POI's. "
   ]
  },
  {
   "cell_type": "code",
   "execution_count": 115,
   "metadata": {},
   "outputs": [
    {
     "data": {
      "text/plain": [
       "count    1.440000e+02\n",
       "mean    -1.936833e+05\n",
       "std      6.060111e+05\n",
       "min     -3.504386e+06\n",
       "25%     -3.708600e+04\n",
       "50%      0.000000e+00\n",
       "75%      0.000000e+00\n",
       "max      0.000000e+00\n",
       "Name: deferred_income, dtype: float64"
      ]
     },
     "execution_count": 115,
     "metadata": {},
     "output_type": "execute_result"
    }
   ],
   "source": [
    "df_clean['deferred_income'].describe()"
   ]
  },
  {
   "cell_type": "code",
   "execution_count": 116,
   "metadata": {},
   "outputs": [],
   "source": [
    "poi_df = df_clean.loc[df_clean['poi'] == True]\n",
    "nonpoi_df = df_clean.loc[df_clean['poi'] == False]"
   ]
  },
  {
   "cell_type": "code",
   "execution_count": 117,
   "metadata": {},
   "outputs": [],
   "source": [
    "poi_list = poi_df.index.tolist()\n",
    "nonpoi_list = nonpoi_df.index.tolist()"
   ]
  },
  {
   "cell_type": "markdown",
   "metadata": {},
   "source": [
    "The deferred_income feature has mostly negative values as it is the money which has to be returned by the company."
   ]
  },
  {
   "cell_type": "code",
   "execution_count": 118,
   "metadata": {},
   "outputs": [
    {
     "name": "stdout",
     "output_type": "stream",
     "text": [
      "length poi list : 18\n",
      "length non-poi list : 126\n"
     ]
    }
   ],
   "source": [
    "print(\"length poi list : {}\".format(len(poi_list)))\n",
    "print(\"length non-poi list : {}\".format(len(nonpoi_list)))"
   ]
  },
  {
   "cell_type": "code",
   "execution_count": 119,
   "metadata": {},
   "outputs": [
    {
     "data": {
      "image/png": "[encoded data removed]",
      "text/plain": [
       "<Figure size 432x288 with 1 Axes>"
      ]
     },
     "metadata": {
      "needs_background": "light"
     },
     "output_type": "display_data"
    }
   ],
   "source": [
    "plt.scatter(nonpoi_list,\n",
    "            df_clean['deferred_income'][df_clean['poi'] == False],\n",
    "            color = 'g', label = 'Not-POI')\n",
    "\n",
    "plt.scatter(poi_list,\n",
    "            df_clean['deferred_income'][df_clean['poi'] == True],\n",
    "            color = 'r', label = 'POI')\n",
    "\n",
    "    \n",
    "plt.xlabel('Employees')\n",
    "plt.ylabel('deferred_income')\n",
    "plt.title(\"Scatterplot of Employees with deferred income\")\n",
    "plt.legend(loc='upper right')\n",
    "plt.show()"
   ]
  },
  {
   "cell_type": "code",
   "execution_count": 120,
   "metadata": {},
   "outputs": [
    {
     "data": {
      "image/png": "[encoded data removed]",
      "text/plain": [
       "<Figure size 432x288 with 1 Axes>"
      ]
     },
     "metadata": {
      "needs_background": "light"
     },
     "output_type": "display_data"
    }
   ],
   "source": [
    "# scatterplot of total_payments vs deferral_payments w.r.t POI\n",
    "plt.scatter(df_clean['total_payments'][df_clean['poi'] == False],\n",
    "            df_clean['deferral_payments'][df_clean['poi'] == False],\n",
    "            color = 'g', label = 'Not-POI')\n",
    "\n",
    "plt.scatter(df_clean['total_payments'][df_clean['poi'] == True],\n",
    "            df_clean['deferral_payments'][df_clean['poi'] == True],\n",
    "            color = 'r', label = 'POI')\n",
    "\n",
    "    \n",
    "plt.xlabel('total_payments')\n",
    "plt.ylabel('deferral_payments')\n",
    "plt.title(\"Scatterplot of total_payments vs deferral_payments w.r.t POI\")\n",
    "plt.legend(loc='upper right')\n",
    "plt.show()"
   ]
  },
  {
   "cell_type": "markdown",
   "metadata": {},
   "source": [
    "From the above scatterplot it can be observed that majority of POIs have very low value of deferral payments as compared to the deferral_payments of non-POIs.\n",
    "From the above we can observe there are two outliers. The one having high value of total_payments is a POI and the other outlier with high value of deferral payments is a non-POI. I am removing the non-POI outlier.\n"
   ]
  },
  {
   "cell_type": "code",
   "execution_count": 121,
   "metadata": {},
   "outputs": [
    {
     "data": {
      "text/html": [
       "<div>\n",
       "<style scoped>\n",
       "    .dataframe tbody tr th:only-of-type {\n",
       "        vertical-align: middle;\n",
       "    }\n",
       "\n",
       "    .dataframe tbody tr th {\n",
       "        vertical-align: top;\n",
       "    }\n",
       "\n",
       "    .dataframe thead th {\n",
       "        text-align: right;\n",
       "    }\n",
       "</style>\n",
       "<table border=\"1\" class=\"dataframe\">\n",
       "  <thead>\n",
       "    <tr style=\"text-align: right;\">\n",
       "      <th></th>\n",
       "      <th>bonus</th>\n",
       "      <th>deferral_payments</th>\n",
       "      <th>deferred_income</th>\n",
       "      <th>director_fees</th>\n",
       "      <th>exercised_stock_options</th>\n",
       "      <th>expenses</th>\n",
       "      <th>from_messages</th>\n",
       "      <th>from_poi_to_this_person</th>\n",
       "      <th>from_this_person_to_poi</th>\n",
       "      <th>loan_advances</th>\n",
       "      <th>long_term_incentive</th>\n",
       "      <th>other</th>\n",
       "      <th>poi</th>\n",
       "      <th>restricted_stock</th>\n",
       "      <th>restricted_stock_deferred</th>\n",
       "      <th>salary</th>\n",
       "      <th>shared_receipt_with_poi</th>\n",
       "      <th>to_messages</th>\n",
       "      <th>total_payments</th>\n",
       "      <th>total_stock_value</th>\n",
       "      <th>bonus-to-salary_ratio</th>\n",
       "    </tr>\n",
       "  </thead>\n",
       "  <tbody>\n",
       "    <tr>\n",
       "      <th>FREVERT MARK A</th>\n",
       "      <td>2000000.0</td>\n",
       "      <td>6426990.0</td>\n",
       "      <td>-3367011.0</td>\n",
       "      <td>0.0</td>\n",
       "      <td>10433518.0</td>\n",
       "      <td>86987.0</td>\n",
       "      <td>21.0</td>\n",
       "      <td>242.0</td>\n",
       "      <td>6.0</td>\n",
       "      <td>2000000.0</td>\n",
       "      <td>1617011.0</td>\n",
       "      <td>7427621.0</td>\n",
       "      <td>False</td>\n",
       "      <td>4188667.0</td>\n",
       "      <td>0.0</td>\n",
       "      <td>1060932.0</td>\n",
       "      <td>2979.0</td>\n",
       "      <td>3275.0</td>\n",
       "      <td>17252530.0</td>\n",
       "      <td>14622185.0</td>\n",
       "      <td>1.885135</td>\n",
       "    </tr>\n",
       "  </tbody>\n",
       "</table>\n",
       "</div>"
      ],
      "text/plain": [
       "                    bonus  deferral_payments  deferred_income  director_fees  \\\n",
       "FREVERT MARK A  2000000.0  6426990.0         -3367011.0        0.0             \n",
       "\n",
       "                exercised_stock_options  expenses  from_messages  \\\n",
       "FREVERT MARK A  10433518.0               86987.0   21.0            \n",
       "\n",
       "                from_poi_to_this_person  from_this_person_to_poi  \\\n",
       "FREVERT MARK A  242.0                    6.0                       \n",
       "\n",
       "                loan_advances  long_term_incentive      other    poi  \\\n",
       "FREVERT MARK A  2000000.0      1617011.0            7427621.0  False   \n",
       "\n",
       "                restricted_stock  restricted_stock_deferred     salary  \\\n",
       "FREVERT MARK A  4188667.0         0.0                        1060932.0   \n",
       "\n",
       "                shared_receipt_with_poi  to_messages  total_payments  \\\n",
       "FREVERT MARK A  2979.0                   3275.0       17252530.0       \n",
       "\n",
       "                total_stock_value  bonus-to-salary_ratio  \n",
       "FREVERT MARK A  14622185.0         1.885135               "
      ]
     },
     "execution_count": 121,
     "metadata": {},
     "output_type": "execute_result"
    }
   ],
   "source": [
    "# df_clean.loc[df_clean['deferral_payments'] !=  max]\n",
    "df_clean.loc[df_clean.index ==  'FREVERT MARK A']"
   ]
  },
  {
   "cell_type": "code",
   "execution_count": 122,
   "metadata": {},
   "outputs": [
    {
     "data": {
      "text/html": [
       "<div>\n",
       "<style scoped>\n",
       "    .dataframe tbody tr th:only-of-type {\n",
       "        vertical-align: middle;\n",
       "    }\n",
       "\n",
       "    .dataframe tbody tr th {\n",
       "        vertical-align: top;\n",
       "    }\n",
       "\n",
       "    .dataframe thead th {\n",
       "        text-align: right;\n",
       "    }\n",
       "</style>\n",
       "<table border=\"1\" class=\"dataframe\">\n",
       "  <thead>\n",
       "    <tr style=\"text-align: right;\">\n",
       "      <th></th>\n",
       "      <th>bonus</th>\n",
       "      <th>deferral_payments</th>\n",
       "      <th>deferred_income</th>\n",
       "      <th>director_fees</th>\n",
       "      <th>exercised_stock_options</th>\n",
       "      <th>expenses</th>\n",
       "      <th>from_messages</th>\n",
       "      <th>from_poi_to_this_person</th>\n",
       "      <th>from_this_person_to_poi</th>\n",
       "      <th>loan_advances</th>\n",
       "      <th>long_term_incentive</th>\n",
       "      <th>other</th>\n",
       "      <th>poi</th>\n",
       "      <th>restricted_stock</th>\n",
       "      <th>restricted_stock_deferred</th>\n",
       "      <th>salary</th>\n",
       "      <th>shared_receipt_with_poi</th>\n",
       "      <th>to_messages</th>\n",
       "      <th>total_payments</th>\n",
       "      <th>total_stock_value</th>\n",
       "      <th>bonus-to-salary_ratio</th>\n",
       "    </tr>\n",
       "  </thead>\n",
       "  <tbody>\n",
       "    <tr>\n",
       "      <th>METTS MARK</th>\n",
       "      <td>600000.0</td>\n",
       "      <td>0.0</td>\n",
       "      <td>0.0</td>\n",
       "      <td>0.0</td>\n",
       "      <td>0.0</td>\n",
       "      <td>94299.0</td>\n",
       "      <td>29.0</td>\n",
       "      <td>38.0</td>\n",
       "      <td>1.0</td>\n",
       "      <td>0.0</td>\n",
       "      <td>0.0</td>\n",
       "      <td>1740.0</td>\n",
       "      <td>False</td>\n",
       "      <td>585062.0</td>\n",
       "      <td>0.0</td>\n",
       "      <td>365788.0</td>\n",
       "      <td>702.0</td>\n",
       "      <td>807.0</td>\n",
       "      <td>1061827.0</td>\n",
       "      <td>585062.0</td>\n",
       "      <td>1.640294</td>\n",
       "    </tr>\n",
       "  </tbody>\n",
       "</table>\n",
       "</div>"
      ],
      "text/plain": [
       "               bonus  deferral_payments  deferred_income  director_fees  \\\n",
       "METTS MARK  600000.0  0.0                0.0              0.0             \n",
       "\n",
       "            exercised_stock_options  expenses  from_messages  \\\n",
       "METTS MARK  0.0                      94299.0   29.0            \n",
       "\n",
       "            from_poi_to_this_person  from_this_person_to_poi  loan_advances  \\\n",
       "METTS MARK  38.0                     1.0                      0.0             \n",
       "\n",
       "            long_term_incentive   other    poi  restricted_stock  \\\n",
       "METTS MARK  0.0                  1740.0  False  585062.0           \n",
       "\n",
       "            restricted_stock_deferred    salary  shared_receipt_with_poi  \\\n",
       "METTS MARK  0.0                        365788.0  702.0                     \n",
       "\n",
       "            to_messages  total_payments  total_stock_value  \\\n",
       "METTS MARK  807.0        1061827.0       585062.0            \n",
       "\n",
       "            bonus-to-salary_ratio  \n",
       "METTS MARK  1.640294               "
      ]
     },
     "execution_count": 122,
     "metadata": {},
     "output_type": "execute_result"
    }
   ],
   "source": [
    "df_clean.loc[df_clean.index ==  'METTS MARK']"
   ]
  },
  {
   "cell_type": "markdown",
   "metadata": {},
   "source": [
    "#### Removing Outlier 3 : 'FREVERT MARK A'"
   ]
  },
  {
   "cell_type": "code",
   "execution_count": 123,
   "metadata": {},
   "outputs": [],
   "source": [
    "# Removing the non-POI employee having maximum 'deferral_payments'\n",
    "df_clean.drop('FREVERT MARK A', axis = 0, inplace = True)"
   ]
  },
  {
   "cell_type": "code",
   "execution_count": 124,
   "metadata": {},
   "outputs": [
    {
     "data": {
      "text/html": [
       "<div>\n",
       "<style scoped>\n",
       "    .dataframe tbody tr th:only-of-type {\n",
       "        vertical-align: middle;\n",
       "    }\n",
       "\n",
       "    .dataframe tbody tr th {\n",
       "        vertical-align: top;\n",
       "    }\n",
       "\n",
       "    .dataframe thead th {\n",
       "        text-align: right;\n",
       "    }\n",
       "</style>\n",
       "<table border=\"1\" class=\"dataframe\">\n",
       "  <thead>\n",
       "    <tr style=\"text-align: right;\">\n",
       "      <th></th>\n",
       "      <th>bonus</th>\n",
       "      <th>deferral_payments</th>\n",
       "      <th>deferred_income</th>\n",
       "      <th>director_fees</th>\n",
       "      <th>exercised_stock_options</th>\n",
       "      <th>expenses</th>\n",
       "      <th>from_messages</th>\n",
       "      <th>from_poi_to_this_person</th>\n",
       "      <th>from_this_person_to_poi</th>\n",
       "      <th>loan_advances</th>\n",
       "      <th>long_term_incentive</th>\n",
       "      <th>other</th>\n",
       "      <th>poi</th>\n",
       "      <th>restricted_stock</th>\n",
       "      <th>restricted_stock_deferred</th>\n",
       "      <th>salary</th>\n",
       "      <th>shared_receipt_with_poi</th>\n",
       "      <th>to_messages</th>\n",
       "      <th>total_payments</th>\n",
       "      <th>total_stock_value</th>\n",
       "      <th>bonus-to-salary_ratio</th>\n",
       "    </tr>\n",
       "  </thead>\n",
       "  <tbody>\n",
       "  </tbody>\n",
       "</table>\n",
       "</div>"
      ],
      "text/plain": [
       "Empty DataFrame\n",
       "Columns: [bonus, deferral_payments, deferred_income, director_fees, exercised_stock_options, expenses, from_messages, from_poi_to_this_person, from_this_person_to_poi, loan_advances, long_term_incentive, other, poi, restricted_stock, restricted_stock_deferred, salary, shared_receipt_with_poi, to_messages, total_payments, total_stock_value, bonus-to-salary_ratio]\n",
       "Index: []"
      ]
     },
     "execution_count": 124,
     "metadata": {},
     "output_type": "execute_result"
    }
   ],
   "source": [
    "# Testing\n",
    "df_clean.loc[df_clean.index==  'FREVERT MARK A']"
   ]
  },
  {
   "cell_type": "code",
   "execution_count": 125,
   "metadata": {},
   "outputs": [],
   "source": [
    "df_clean['fraction_mail_from_poi'] = df_clean['from_poi_to_this_person']/df_clean['from_messages'] \n",
    "df_clean['fraction_mail_to_poi'] = df_clean['from_this_person_to_poi']/df_clean['to_messages']"
   ]
  },
  {
   "cell_type": "code",
   "execution_count": 126,
   "metadata": {},
   "outputs": [],
   "source": [
    "# clean all 'inf' values which we got if the person's from_messages = 0\n",
    "df_clean = df_clean.replace('inf', 0)\n",
    "df_clean = df_clean.fillna(0)"
   ]
  },
  {
   "cell_type": "code",
   "execution_count": 127,
   "metadata": {},
   "outputs": [],
   "source": [
    "data_dict = df_clean.to_dict(orient='index')\n",
    "my_dataset = data_dict"
   ]
  },
  {
   "cell_type": "markdown",
   "metadata": {},
   "source": [
    "## <a id=\"feat\" class=\"anchor\"><font color=#005ce8>5. Features</font></a>"
   ]
  },
  {
   "cell_type": "markdown",
   "metadata": {},
   "source": [
    "Features choosen by me to be used in the POI identifier\n",
    "Out of the all features available to be me (given and created by me), i will be using 21 of them for the POI identification and feature processing. The given features can be divided into two types : financial features and email features.\n",
    "\n",
    "#### 17 financial features: \n",
    "['salary', 'bonus', 'long_term_incentive', 'bonus-to-salary_ratio', 'expenses','restricted_stock_deferred', 'restricted_stock', 'deferred_income','total_payments','other','shared_receipt_with_poi', 'loan_advances', 'director_fees', 'exercised_stock_options', 'deferral_payments', 'total_stock_value', 'restricted_stock']\n",
    "\n",
    "#### 06 Email features :\n",
    "['fraction_mail_from_poi', 'fraction_mail_to_poi', 'from_poi_to_this_person', 'from_this_person_to_poi', 'to_messages', 'from_messages']\n",
    "\n",
    "#### POI"
   ]
  },
  {
   "cell_type": "code",
   "execution_count": 131,
   "metadata": {},
   "outputs": [],
   "source": [
    "### features_list is a list of strings, each of which is a feature name.\n",
    "### The first feature must be \"poi\".\n",
    "from sklearn.model_selection import StratifiedShuffleSplit\n",
    "from sklearn.model_selection import train_test_split\n",
    "features_list = ['poi', 'salary', 'bonus', 'long_term_incentive', 'bonus-to-salary_ratio', 'deferral_payments', 'expenses', \n",
    "                 'restricted_stock_deferred', 'restricted_stock', 'deferred_income','fraction_mail_from_poi', 'total_payments',\n",
    "                 'other', 'fraction_mail_to_poi', 'from_poi_to_this_person', 'from_this_person_to_poi', 'to_messages', \n",
    "                 'from_messages', 'shared_receipt_with_poi', 'loan_advances', 'director_fees', 'exercised_stock_options',\n",
    "                'total_stock_value', 'restricted_stock']"
   ]
  },
  {
   "cell_type": "code",
   "execution_count": 132,
   "metadata": {},
   "outputs": [],
   "source": [
    "# The clean dataset\n",
    "data = featureFormat(my_dataset, features_list, sort_keys = True)\n",
    "labels, features = targetFeatureSplit(data)"
   ]
  },
  {
   "cell_type": "code",
   "execution_count": 133,
   "metadata": {},
   "outputs": [],
   "source": [
    "features_train, features_test, labels_train, labels_test = train_test_split(features, labels, test_size=0.3, \n",
    "                                                                                             random_state=42)\n",
    "\n",
    "# Stratified ShuffleSplit cross-validator\n",
    "from sklearn.model_selection import StratifiedShuffleSplit\n",
    "sss = StratifiedShuffleSplit(n_splits=100, test_size=0.3,random_state = 42)\n",
    "\n",
    "# Importing modules for feature scaling and selection\n",
    "from sklearn.preprocessing import MinMaxScaler\n",
    "from sklearn.feature_selection import SelectKBest, f_classif\n",
    "from sklearn.decomposition import PCA\n",
    "from sklearn.pipeline import Pipeline\n",
    "from sklearn.model_selection import GridSearchCV\n",
    "\n",
    "# Defining features to be used via the pipeline\n",
    "## 1. Feature scaling\n",
    "scaler = MinMaxScaler()\n",
    "\n",
    "## 2. Feature Selection\n",
    "skb = SelectKBest(f_classif)\n",
    "\n",
    "## 3. PCA\n",
    "pca = PCA()"
   ]
  },
  {
   "cell_type": "markdown",
   "metadata": {},
   "source": [
    "## <a id=\"algoritms\" class=\"anchor\"><font color=#005ce8>6. Algorithms Selection</font></a>"
   ]
  },
  {
   "cell_type": "markdown",
   "metadata": {},
   "source": [
    "Three algorithms have been choosed for this project:\n",
    "\n",
    "1. Naive Bayes\n",
    "2. Decision Tree\n",
    "3. K-means"
   ]
  },
  {
   "cell_type": "markdown",
   "metadata": {},
   "source": [
    "### <font color=#005ce8>Naive Bayes</font>\n",
    "________________\n",
    "\n",
    "Naive Bayes methods are a set of supervised learning algorithms based on applying Bayes’ theorem with the “naive” assumption of conditional independence between every pair of features given the value of the class variable. Bayes’ theorem states the following relationship, given class variable  and dependent feature vector  through , :\n",
    "\n",
    "Using the naive conditional independence assumption that\n",
    "\n",
    "for all , this relationship is simplified to\n",
    "\n",
    "Since  is constant given the input, we can use the following classification rule:\n",
    "\n",
    "and we can use Maximum A Posteriori (MAP) estimation to estimate  and ; the former is then the relative frequency of class  in the training set.\n",
    "\n",
    "The different naive Bayes classifiers differ mainly by the assumptions they make regarding the distribution of .\n",
    "\n",
    "In spite of their apparently over-simplified assumptions, naive Bayes classifiers have worked quite well in many real-world situations, famously document classification and spam filtering. They require a small amount of training data to estimate the necessary parameters. (For theoretical reasons why naive Bayes works well, and on which types of data it does, see the references below.)\n",
    "\n",
    "Naive Bayes learners and classifiers can be extremely fast compared to more sophisticated methods. The decoupling of the class conditional feature distributions means that each distribution can be independently estimated as a one dimensional distribution. This in turn helps to alleviate problems stemming from the curse of dimensionality.\n",
    "\n",
    "On the flip side, although naive Bayes is known as a decent classifier, it is known to be a bad estimator, so the probability outputs from predict_proba are not to be taken too seriously."
   ]
  },
  {
   "cell_type": "code",
   "execution_count": null,
   "metadata": {},
   "outputs": [],
   "source": [
    "## Classifier 1 : Gaussian Naive Bayes (GaussianNB) classifier\n",
    "\n",
    "from sklearn.naive_bayes import GaussianNB\n",
    "clf_gnb = GaussianNB()\n",
    "\n",
    "pipeline = Pipeline(steps = [(\"SKB\", skb), (\"NaiveBayes\",clf_gnb)])\n",
    "param_grid = {\"SKB__k\":[3,4,5,6,7,8,9,10,11,12,13,14,15,16,17,18,19]}\n",
    "\n",
    "grid = GridSearchCV(pipeline, param_grid, verbose = 0, cv = sss, scoring = 'f1')\n",
    "\n",
    "t0 = time()\n",
    "grid.fit(features, labels)\n",
    "print(\"training time: \", round(time()-t0, 3), \"s\")\n",
    "\n",
    "# best algorithm\n",
    "clf = grid.best_estimator_\n",
    "\n",
    "t0 = time()\n",
    "# refit the best algorithm:\n",
    "clf.fit(features_train, labels_train)\n",
    "prediction = clf.predict(features_test)\n",
    "print(\"testing time: \", round(time()-t0, 3), \"s\")"
   ]
  },
  {
   "cell_type": "code",
   "execution_count": 137,
   "metadata": {},
   "outputs": [
    {
     "name": "stdout",
     "output_type": "stream",
     "text": [
      "Accuracy of GaussianNB classifer is  :  0.8372093023255814\n",
      "Precision of GaussianNB classifer is :  0.3333333333333333\n",
      "Recall of GaussianNB classifer is    :  0.4\n",
      "f1-score of GaussianNB classifer is  :  0.3636363636363636\n"
     ]
    }
   ],
   "source": [
    "print(\"Accuracy of GaussianNB classifer is  : \",accuracy_score(labels_test, prediction))\n",
    "print(\"Precision of GaussianNB classifer is : \",precision_score(prediction, labels_test))\n",
    "print(\"Recall of GaussianNB classifer is    : \",recall_score(prediction, labels_test))\n",
    "print(\"f1-score of GaussianNB classifer is  : \",f1_score(prediction, labels_test))"
   ]
  },
  {
   "cell_type": "markdown",
   "metadata": {},
   "source": [
    "### <font color=#005ce8>Decision Trees</font>\n",
    "________________\n",
    "\n",
    "Decision Trees (DTs) are a non-parametric supervised learning method used for classification and regression. The goal is to create a model that predicts the value of a target variable by learning simple decision rules inferred from the data features.\n",
    "\n",
    "For instance, in the example below, decision trees learn from data to approximate a sine curve with a set of if-then-else decision rules. The deeper the tree, the more complex the decision rules and the fitter the model.\n",
    "\n",
    "##### Some advantages of decision trees are:\n",
    "\n",
    "- Simple to understand and to interpret. Trees can be visualised.\n",
    "- Requires little data preparation. Other techniques often require data normalisation, dummy variables need to be created and blank values to be removed. Note however that this module does not support missing values.\n",
    "- The cost of using the tree (i.e., predicting data) is logarithmic in the number of data points used to train the tree.\n",
    "- Able to handle both numerical and categorical data. Other techniques are usually specialised in analysing datasets that have only one type of variable. See algorithms for more information.\n",
    "- Able to handle multi-output problems.\n",
    "- Uses a white box model. If a given situation is observable in a model, the explanation for the condition is easily explained by boolean logic. By contrast, in a black box model (e.g., in an artificial neural network), results may be more difficult to interpret.\n",
    "- Possible to validate a model using statistical tests. That makes it possible to account for the reliability of the model.\n",
    "- Performs well even if its assumptions are somewhat violated by the true model from which the data were generated.\n",
    "\n",
    "#####  The disadvantages of decision trees include:\n",
    "\n",
    "- Decision-tree learners can create over-complex trees that do not generalise the data well. This is called overfitting. Mechanisms such as pruning (not currently supported), setting the minimum number of samples required at a leaf node or setting the maximum depth of the tree are necessary to avoid this problem.\n",
    "- Decision trees can be unstable because small variations in the data might result in a completely different tree being generated. This problem is mitigated by using decision trees within an ensemble.\n",
    "- The problem of learning an optimal decision tree is known to be NP-complete under several aspects of optimality and even for simple concepts. Consequently, practical decision-tree learning algorithms are based on heuristic algorithms such as the greedy algorithm where locally optimal decisions are made at each node. Such algorithms cannot guarantee to return the globally optimal decision tree. This can be mitigated by training multiple trees in an ensemble learner, where the features and samples are randomly sampled with replacement.\n",
    "- There are concepts that are hard to learn because decision trees do not express them easily, such as XOR, parity or multiplexer problems.\n",
    "- Decision tree learners create biased trees if some classes dominate. It is therefore recommended to balance the dataset prior to fitting with the decision tree."
   ]
  },
  {
   "cell_type": "code",
   "execution_count": null,
   "metadata": {},
   "outputs": [],
   "source": [
    "from sklearn.tree import DecisionTreeClassifier\n",
    "clf_dtree = DecisionTreeClassifier()\n",
    "\n",
    "pipeline = Pipeline(steps = [(\"SKB\", skb), (\"dtree\",clf_dtree)])\n",
    "param_grid = {\"SKB__k\":[3,4,5,6,7,8,9,10,11,12,13,14,15,16,17,18,19],\n",
    "              \"dtree__criterion\": [\"gini\", \"entropy\"],\n",
    "              \"dtree__min_samples_split\": [2, 4, 8, 10]}\n",
    "\n",
    "\n",
    "grid = GridSearchCV(pipeline, param_grid, verbose = 0, cv = sss, scoring = 'f1')\n",
    "\n",
    "t0 = time()\n",
    "#clf = clf.fit(features_train, labels_train)\n",
    "grid.fit(features, labels)\n",
    "print(\"training time: \", round(time()-t0, 3), \"s\")\n",
    "\n",
    "# best algorithm\n",
    "clf = grid.best_estimator_\n",
    "\n",
    "t0 = time()\n",
    "# refit the best algorithm:\n",
    "clf.fit(features_train, labels_train)\n",
    "prediction = clf.predict(features_test)"
   ]
  },
  {
   "cell_type": "code",
   "execution_count": 135,
   "metadata": {},
   "outputs": [
    {
     "name": "stdout",
     "output_type": "stream",
     "text": [
      "Accuracy of DT classifer is  :  0.8372093023255814\n",
      "Precision of DT classifer is :  0.4\n",
      "Recall of DT classifer is    :  0.4\n",
      "f1-score of DT classifer is  :  0.3636363636363636\n"
     ]
    }
   ],
   "source": [
    "#Accuracy\n",
    "dt_accuracy = accuracy_score(labels_test, prediction)\n",
    "#Precision\n",
    "dt_prec = precision_score(prediction, labels_test)\n",
    "#Recall\n",
    "dt_recall_s = recall_score(prediction, labels_test)\n",
    "#f1-score\n",
    "dt_f1 = f1_score(prediction, labels_test)\n",
    "\n",
    "print(\"Accuracy of DT classifer is  : \",accuracy_score(labels_test, prediction)) \n",
    "print(\"Precision of DT classifer is : \",precision_score(labels_test, prediction)) \n",
    "print(\"Recall of DT classifer is    : \",recall_score(prediction, labels_test))\n",
    "print(\"f1-score of DT classifer is  : \",f1_score(labels_test, prediction)) "
   ]
  },
  {
   "cell_type": "markdown",
   "metadata": {},
   "source": [
    "### <font color=#005ce8>K Means</font>\n",
    "________________________\n",
    "\n",
    "In Machine Learning, the types of Learning can broadly be classified into three types: 1. Supervised Learning, 2. Unsupervised Learning and 3. Semi-supervised Learning. Algorithms belonging to the family of Unsupervised Learning have no variable to predict tied to the data. Instead of having an output, the data only has an input which would be multiple variables that describe the data. This is where clustering comes in.\n",
    "\n",
    "Be sure to take a look at our Unsupervised Learning in Python course.\n",
    "\n",
    "Clustering is the task of grouping together a set of objects in a way that objects in the same cluster are more similar to each other than to objects in other clusters. Similarity is a metric that reflects the strength of relationship between two data objects. Clustering is mainly used for exploratory data mining. It has manifold usage in many fields such as machine learning, pattern recognition, image analysis, information retrieval, bio-informatics, data compression, and computer graphics.\n",
    "\n",
    "However, this post tries to unravel the inner workings of K-Means, a very popular clustering technique. There's also a very good DataCamp post on K-Means, which explains the types of clustering (hard and soft clustering), types of clustering methods (connectivity, centroid, distribution and density) with a case study. The algorithm will help you to tackle unlabeled datasets (i.e. the datasets that do not have any class-labels) and draw your own inferences from them with ease.\n",
    "\n",
    "K-Means falls under the category of centroid-based clustering. A centroid is a data point (imaginary or real) at the center of a cluster. In centroid-based clustering, clusters are represented by a central vector or a centroid. This centroid might not necessarily be a member of the dataset. Centroid-based clustering is an iterative algorithm in which the notion of similarity is derived by how close a data point is to the centroid of the cluster."
   ]
  },
  {
   "cell_type": "code",
   "execution_count": null,
   "metadata": {},
   "outputs": [],
   "source": [
    "## Classifier 3 : KNN classifier\n",
    "\n",
    "from sklearn.neighbors import KNeighborsClassifier\n",
    "clf_knn = KNeighborsClassifier()\n",
    "\n",
    "sss = StratifiedShuffleSplit(n_splits=10, test_size=0.3,random_state = 42)\n",
    "pipeline = Pipeline(steps = [(\"scaling\", scaler), (\"SKB\", skb),  (\"knn\",clf_knn)])\n",
    "param_grid = {\"SKB__k\":[3,4,5,6,7,8,9,10,11,12,13,14,15, 16, 17, 18], \n",
    "              \"knn__n_neighbors\": [3,4,5,6,7,8,9,11,12,13,15],\n",
    "              }\n",
    "\n",
    "grid = GridSearchCV(pipeline, param_grid, verbose = 0, cv = sss, scoring = 'f1')\n",
    "\n",
    "t0 = time()\n",
    "#clf = clf.fit(features_train, labels_train)\n",
    "grid.fit(features, labels)\n",
    "print(\"training time: \", round(time()-t0, 3), \"s\")\n",
    "\n",
    "# best algorithm\n",
    "clf = grid.best_estimator_\n",
    "\n",
    "t0 = time()\n",
    "# refit the best algorithm:\n",
    "clf.fit(features_train, labels_train)\n",
    "prediction = clf.predict(features_test)\n",
    "print(\"testing time: \", round(time()-t0, 3), \"s\")"
   ]
  },
  {
   "cell_type": "code",
   "execution_count": 139,
   "metadata": {},
   "outputs": [
    {
     "name": "stdout",
     "output_type": "stream",
     "text": [
      "Accuracy of K classifer is  :  0.8372093023255814\n",
      "Precision of K classifer is :  0.16666666666666666\n",
      "Recall of K classifer is    :  0.3333333333333333\n",
      "f1-score of K classifer is  :  0.2222222222222222\n"
     ]
    }
   ],
   "source": [
    "k_accuracy = accuracy_score(labels_test, prediction)\n",
    "k_precision = precision_score(prediction, labels_test)\n",
    "k_recall = recall_score(prediction, labels_test)\n",
    "k_f1 = f1_score(prediction, labels_test)\n",
    "\n",
    "print (\"Accuracy of K classifer is  : \", k_accuracy)\n",
    "print( \"Precision of K classifer is : \", k_precision)\n",
    "print(\"Recall of K classifer is    : \", k_recall)\n",
    "print(\"f1-score of K classifer is  : \", k_f1)"
   ]
  },
  {
   "cell_type": "markdown",
   "metadata": {},
   "source": [
    "________\n",
    "\n",
    "# <div align=\"center\"><a id=\"evaluation\" class=\"anchor\"><font color=#FFA500>Enron Fraud Report </font></a></div>\n",
    "__________"
   ]
  },
  {
   "cell_type": "markdown",
   "metadata": {},
   "source": [
    "### Briefing\n",
    "______\n",
    "- Straight to the point, the goal of this project is to find the POIs out of enron's employees, using the the content that we have learned in udacity's classes, as machine learning techniques, problem solving and evaluation of the whole process and results. About the dataset and outliers detection, we have found something about 04 outliers: 'Total', 'The travel agency' , FREVERT MARK A', 'METTS MARK'.   <br><br>\n",
    "- Actually, we have used MinMaxScaler, tha transforms features by scaling each feature to a given range. This estimator scales and translates each feature individually such that it is in the given range on the training set, e.g. between zero and one.  <br> <br>\n",
    "- This transformation is often used as an alternative to zero mean, unit variance scaling. As the POI's were taking larger amounts of money as bonus, in addition to their high salary so it can be stated that the ratio of bonus to salary of the POI's will be higher as compared to that of non-POI's. So i create a new feature called bonus-to-salary_ratio hoping that it may aid in the POI identification in the later parts of this project. <br> <br>\n",
    "- Algorithms:  Naive Bayes, Decision Tree, K-means <br> <br>\n",
    "- Tuning the parameters means adjusting the parameters of an algorithm so that it can handle a particular dataset better. Different parameter settings will result in different decision boundaries. If we don’t tune the parameters well, the algorithm won’t be able to generalize a dataset well and the final classification result might be less accurate. <br> <br>\n",
    "- Validation techniques in machine learning are used to get the error rate of the ML model, which can be considered as close to the true error rate of the population. If the data volume is large enough to be representative of the population, you may not need the validation techniques. However, in real-world scenarios, we work with samples of data that may not be a true representative of the population. This is where validation techniques come into the picture. <br> <br>\n",
    "- Wikipedia says that, in pattern recognition, information retrieval and binary classification, precision (also called positive predictive value) is the fraction of relevant instances among the retrieved instances, while recall (also known as sensitivity) is the fraction of relevant instances that have been retrieved over the total amount of relevant instances. Both precision and recall are therefore based on an understanding and measure of relevance. "
   ]
  },
  {
   "cell_type": "markdown",
   "metadata": {},
   "source": [
    "### Dataset Assessment\n",
    "_______"
   ]
  },
  {
   "cell_type": "code",
   "execution_count": 135,
   "metadata": {},
   "outputs": [
    {
     "name": "stdout",
     "output_type": "stream",
     "text": [
      "<class 'pandas.core.frame.DataFrame'>\n",
      "Index: 146 entries, METTS MARK to GLISAN JR BEN F\n",
      "Data columns (total 21 columns):\n",
      "bonus                        146 non-null object\n",
      "deferral_payments            146 non-null object\n",
      "deferred_income              146 non-null object\n",
      "director_fees                146 non-null object\n",
      "email_address                146 non-null object\n",
      "exercised_stock_options      146 non-null object\n",
      "expenses                     146 non-null object\n",
      "from_messages                146 non-null object\n",
      "from_poi_to_this_person      146 non-null object\n",
      "from_this_person_to_poi      146 non-null object\n",
      "loan_advances                146 non-null object\n",
      "long_term_incentive          146 non-null object\n",
      "other                        146 non-null object\n",
      "poi                          146 non-null bool\n",
      "restricted_stock             146 non-null object\n",
      "restricted_stock_deferred    146 non-null object\n",
      "salary                       146 non-null object\n",
      "shared_receipt_with_poi      146 non-null object\n",
      "to_messages                  146 non-null object\n",
      "total_payments               146 non-null object\n",
      "total_stock_value            146 non-null object\n",
      "dtypes: bool(1), object(20)\n",
      "memory usage: 29.1+ KB\n"
     ]
    }
   ],
   "source": [
    "## Data Set Assessment\n",
    "df.info()"
   ]
  },
  {
   "cell_type": "code",
   "execution_count": 79,
   "metadata": {},
   "outputs": [
    {
     "data": {
      "image/png": "[encoded data removed]",
      "text/plain": [
       "<Figure size 2160x1080 with 1 Axes>"
      ]
     },
     "metadata": {
      "needs_background": "light"
     },
     "output_type": "display_data"
    }
   ],
   "source": [
    "plt.figure(figsize=(30, 15))\n",
    "plt.xticks(rotation=90, fontsize=15)\n",
    "plt.bar(*zip(*ns_dict.items()))\n",
    "plt.xlabel('Columns', fontsize=15)\n",
    "plt.ylabel('Number of NaNs', fontsize=15)\n",
    "plt.title(\"Number of NaNs Per Column\", fontsize=25)\n",
    "plt.show()"
   ]
  },
  {
   "cell_type": "code",
   "execution_count": 139,
   "metadata": {},
   "outputs": [
    {
     "data": {
      "image/png": "[encoded data removed]",
      "text/plain": [
       "<Figure size 432x288 with 1 Axes>"
      ]
     },
     "metadata": {
      "needs_background": "light"
     },
     "output_type": "display_data"
    }
   ],
   "source": [
    "plt.title(\"Number of POIs and Non POIs\")\n",
    "ax = sns.countplot(x=\"poi\", data=df)"
   ]
  },
  {
   "cell_type": "markdown",
   "metadata": {},
   "source": [
    "### Validation\n",
    "______________\n",
    "\n",
    "Model validation is defined as the process where a trained model is evaluated with a testing data set. The testing data set is a separate portion of the same data set from which the training set is derived. The main purpose of using the testing data set is to test the generalization ability of a trained model. Model validation is carried out after model training.\n",
    "\n",
    "Training the prediction model and testing it on the same dataset used for testing is a classic mistake. A model that would just repeat the labels of the samples that it has just seen would have a perfect score but would fail to predict anything useful on yet-unseen data. This situation is called overfitting. To avoid it, it is common practice when performing a (supervised) machine learning experiment to hold out part of the available data as a test set.\n",
    "\n",
    "In this project for validation, StratifiedShuffleSplit is used because the dataset used is very small. This method does a \"Random permutation cross-validatoion\".\n",
    "\n",
    "'StratifiedShuffleSplit' is used when there are few observations in our data that we are trying to predict (as is the case with this dataset). Instead of specifying an explicit testing and training data split (that is fixed), we randomly 'shuffle' through our data creating testing and training data. The stratified shuffle split is also used to handle class imbalances in the data. This is very important, especially since there are very few POIs in the data.\n",
    "\n",
    "'StratifiedShuffleSplit' will create train/validation subsets (as per the code above, it will create 100 of them). Internally, 'GridSearchCV' will estimate the models using the 100 train subsets and validate the model on the 100 validation subset. So, using the full dataset will allow the training and validation subsets to include as many POI as possible.\n",
    "\n",
    "With 146 Enron employers, 18 of which are POIs, the dataset used is both small and is imbalanced.\n",
    "\n",
    "Evaluation Metric\n",
    "In this project, i am trying to optimize the precision and recall so i am using the f1-score as the key measure for algorithms's performance. F1 score considers both the precision and the recall to compute the score. (Also, for 'StratifiedShuffleSplit' the n_splits parameter = 1000 is used.)\n",
    "\n",
    "**Accuracy** is a ratio of correctly predicted observation to the total observations.\n",
    "$ Accuracy = \\frac{TP + TN}{TP+FP+FN+TN}$\n",
    "\n",
    "**Precision** is the ratio of correctly predicted positive observations to the total predicted positive observations.\n",
    "$ precision = (\\frac{TP}{TP + FP}) $\n",
    "\n",
    "**Recall** is the ratio of correctly predicted positive observations to the all observations in actual class :\n",
    "$ recall = (\\frac{TP}{TP + FN}) $\n",
    "\n",
    "**F1-score** is the weighted average of Precision and Recall. Therefore, this score takes both false positives and false negatives into account.\n",
    "$ f1 = 2.(\\frac{precision.recall}{precision + recall}) $\n",
    "\n",
    "Metric values obtained after running the tester.py file of the top 2 best algorithms:\n",
    "\n",
    "Algorithm used| Accuracy | Precision|\tRecall|\tf1 score\n",
    "------------------|-----------|---------|------|-------|\n",
    "Gaussian Naive Bayes\t|0.86|\t0.50|\t0.50|\t0.50\n",
    "Decision Trees\t|0.84|\t0.40|\t0.40|\t0.36\n",
    "\n",
    "| Interpretation of the metrics that says something human-understandable about algorithm’s performance.\n",
    "\n",
    "- Accuracy can be interpreted as : 86% predictions on the total test set have been made correctly.\n",
    "\n",
    "- Precision can be interpreted as : if a person is being classified as a POI by my classifier then there is a 50% chance that the person is actually a POI. (i.e., a 50% chance of obtaining a true positive condition.)\n",
    "\n",
    "- Recall can be interpreted as : of all the actual POIs considered, 50% of all the POIs can be classified correctly as a POI by my classifier.\n"
   ]
  },
  {
   "cell_type": "markdown",
   "metadata": {},
   "source": [
    "### Compare the model with before and after we added the new features\n",
    "_____"
   ]
  },
  {
   "cell_type": "code",
   "execution_count": null,
   "metadata": {},
   "outputs": [],
   "source": [
    "# Compare the metrics without the new features\n",
    "\n",
    "features_list = ['poi', 'salary', 'bonus', 'long_term_incentive', 'deferral_payments', 'expenses', \n",
    "                 'restricted_stock_deferred', 'restricted_stock', 'deferred_income', 'total_payments',\n",
    "                 'other', 'from_poi_to_this_person', 'from_this_person_to_poi', 'to_messages', \n",
    "                 'from_messages', 'shared_receipt_with_poi', 'loan_advances', 'director_fees', 'exercised_stock_options',\n",
    "                'total_stock_value', 'restricted_stock']\n",
    "# The clean dataset\n",
    "data = featureFormat(my_dataset, features_list, sort_keys = True)\n",
    "labels, features = targetFeatureSplit(data)\n",
    "\n",
    "## Classifier 3 : KNN classifier\n",
    "\n",
    "from sklearn.neighbors import KNeighborsClassifier\n",
    "clf_knn = KNeighborsClassifier()\n",
    "\n",
    "sss = StratifiedShuffleSplit(n_splits=10, test_size=0.3,random_state = 42)\n",
    "pipeline = Pipeline(steps = [(\"scaling\", scaler), (\"SKB\", skb),  (\"knn\",clf_knn)])\n",
    "param_grid = {\"SKB__k\":[3,4,5,6,7,8,9,10,11,12,13,14,15, 16, 17, 18], \n",
    "              \"knn__n_neighbors\": [3,4,5,6,7,8,9,11,12,13,15],\n",
    "              }\n",
    "\n",
    "grid = GridSearchCV(pipeline, param_grid, verbose = 0, cv = sss, scoring = 'f1')\n",
    "\n",
    "t0 = time()\n",
    "#clf = clf.fit(features_train, labels_train)\n",
    "grid.fit(features, labels)\n",
    "print(\"training time: \", round(time()-t0, 3), \"s\")\n",
    "\n",
    "# best algorithm\n",
    "clf = grid.best_estimator_\n",
    "\n",
    "t0 = time()\n",
    "# refit the best algorithm:\n",
    "clf.fit(features_train, labels_train)\n",
    "prediction = clf.predict(features_test)\n",
    "print(\"testing time: \", round(time()-t0, 3), \"s\")\n",
    "\n",
    "old_k_accuracy = accuracy_score(labels_test, prediction)\n",
    "old_k_precision = precision_score(prediction, labels_test)\n",
    "old_k_recall = recall_score(prediction, labels_test)\n",
    "old_k_f1 = f1_score(prediction, labels_test)\n",
    "\n",
    "print (\"Accuracy of K classifer is  : \", old_k_accuracy)\n",
    "print( \"Precision of K classifer is : \", old_k_precision)\n",
    "print(\"Recall of K classifer is    : \", old_k_recall)\n",
    "print(\"f1-score of K classifer is  : \", old_k_f1)"
   ]
  },
  {
   "cell_type": "markdown",
   "metadata": {},
   "source": [
    "Features | Accuracy | Precision|\tRecall|\tf1 score\n",
    "------------------|-----------|---------|------|-------|\n",
    "New Features\t|0.84|\t0.20|\t0.33|\t0.25\n",
    "Old Features\t|0.79|\t0.30|\t0.28|\t0.30"
   ]
  },
  {
   "cell_type": "code",
   "execution_count": 144,
   "metadata": {},
   "outputs": [
    {
     "data": {
      "image/png": "[encoded data removed]",
      "text/plain": [
       "<Figure size 432x288 with 1 Axes>"
      ]
     },
     "metadata": {
      "needs_background": "light"
     },
     "output_type": "display_data"
    },
    {
     "data": {
      "text/plain": [
       "<Figure size 1440x720 with 0 Axes>"
      ]
     },
     "metadata": {},
     "output_type": "display_data"
    }
   ],
   "source": [
    "x = [ \"Accuracy Without New Feature\", \"Accuracy With The News Feature \"]\n",
    "y = np.array([0.28, 0.33])\n",
    "\n",
    "plt.barh(x,y, color='#5195E9')\n",
    "plt.xlabel(\"Accuracy Score\")\n",
    "plt.ylabel(\"DataFrame\")\n",
    "plt.title(\"Best Recall By DataFrames\")\n",
    "plt.grid(alpha=0.5)\n",
    "plt.figure(figsize=(20, 10))\n",
    "plt.show()"
   ]
  },
  {
   "cell_type": "code",
   "execution_count": null,
   "metadata": {},
   "outputs": [],
   "source": []
  }
 ],
 "metadata": {
  "kernelspec": {
   "display_name": "Python 3",
   "language": "python",
   "name": "python3"
  },
  "language_info": {
   "codemirror_mode": {
    "name": "ipython",
    "version": 3
   },
   "file_extension": ".py",
   "mimetype": "text/x-python",
   "name": "python",
   "nbconvert_exporter": "python",
   "pygments_lexer": "ipython3",
   "version": "3.7.1"
  }
 },
 "nbformat": 4,
 "nbformat_minor": 2
}
